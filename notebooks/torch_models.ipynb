{
 "cells": [
  {
   "cell_type": "code",
   "execution_count": 2,
   "metadata": {},
   "outputs": [
    {
     "name": "stdout",
     "output_type": "stream",
     "text": [
      "Available corruptions: ['random_labels', 'partial_labels', 'gaussian_pixels', 'random_pixels', 'shuffled_pixels']\n"
     ]
    }
   ],
   "source": [
    "from generalization.randomization import available_corruptions\n",
    "\n",
    "from fastai.vision.all import *\n",
    "\n",
    "import numpy as np\n",
    "\n",
    "\n",
    "def get_num_cpus():\n",
    "    return len(os.sched_getaffinity(0))\n",
    "\n",
    "\n",
    "def check(learn, dl, plt_title=None):\n",
    "    y_pred, ys, losses = learn.get_preds(1, dl=dl, with_loss=True, reorder=True)\n",
    "\n",
    "    print(y_pred[0].min(), y_pred[0].max(), y_pred[0].sum())\n",
    "    print(y_pred[0].argmax(), ys[0], losses[0])\n",
    "    plot_losses(losses, width=1, plt_title=plt_title)\n",
    "\n",
    "\n",
    "def plot_losses(losses, width=1, plt_title=None):\n",
    "    plt.bar(np.arange(len(losses)), losses, width=width)\n",
    "    plt.title(plt_title)\n",
    "    plt.show()\n",
    "\n",
    "\n",
    "print(\"Available corruptions:\", available_corruptions())"
   ]
  },
  {
   "attachments": {},
   "cell_type": "markdown",
   "metadata": {},
   "source": [
    "## Base Configuration"
   ]
  },
  {
   "cell_type": "code",
   "execution_count": 3,
   "metadata": {},
   "outputs": [],
   "source": [
    "BATCH_SIZE = 256\n",
    "NUM_CPUS = get_num_cpus()\n",
    "LEARNING_RATE = 3e-4\n",
    "STEPS = 300\n",
    "PRINT_EVERY = 3\n",
    "SEED = 5678\n",
    "EPOCHS = 10"
   ]
  },
  {
   "attachments": {},
   "cell_type": "markdown",
   "metadata": {},
   "source": [
    "## Configuration for all experiments"
   ]
  },
  {
   "cell_type": "code",
   "execution_count": 4,
   "metadata": {},
   "outputs": [
    {
     "name": "stdout",
     "output_type": "stream",
     "text": [
      "Files already downloaded and verified\n",
      "Files already downloaded and verified\n",
      "Files already downloaded and verified\n",
      "Files already downloaded and verified\n",
      "Files already downloaded and verified\n",
      "Files already downloaded and verified\n",
      "Files already downloaded and verified\n",
      "Files already downloaded and verified\n"
     ]
    },
    {
     "data": {
      "text/plain": [
       "{'dsets': (Dataset CIFAR10\n",
       "      Number of datapoints: 50000\n",
       "      Root location: ./data/cifar10\n",
       "      Split: Train, Corruption: shuffled_pixels,\n",
       "  Dataset CIFAR10\n",
       "      Number of datapoints: 10000\n",
       "      Root location: ./data/cifar10\n",
       "      Split: Test, Corruption: None),\n",
       " 'train_loader': <torch.utils.data.dataloader.DataLoader at 0x7f80e2583250>,\n",
       " 'test_loader': <torch.utils.data.dataloader.DataLoader at 0x7f80e2583400>,\n",
       " 'train_loader_ordered': <torch.utils.data.dataloader.DataLoader at 0x7f80e2583430>}"
      ]
     },
     "execution_count": 4,
     "metadata": {},
     "output_type": "execute_result"
    }
   ],
   "source": [
    "from fastai.callback.tensorboard import TensorBoardCallback \n",
    "from generalization.randomization import build_cifar10\n",
    "\n",
    "\n",
    "def build_experiments(corrupt_prob):\n",
    "    corruptions = available_corruptions()\n",
    "\n",
    "    experiments = dict()\n",
    "\n",
    "    for corruption in corruptions:\n",
    "        if corruption == \"gaussian_pixels\":\n",
    "            continue\n",
    "        dsets, train_loader, test_loader = build_cifar10(\n",
    "            corruption_name=\"shuffled_pixels\",\n",
    "            corruption_prob=corrupt_prob,\n",
    "            batch_size=BATCH_SIZE,\n",
    "            show_images=False,\n",
    "            verbose=False,\n",
    "        )\n",
    "\n",
    "        _ = dsets[0][100]\n",
    "\n",
    "        train_loader_ordered = torch.utils.data.DataLoader(\n",
    "            dsets[0], batch_size=512, shuffle=False, num_workers=get_num_cpus()\n",
    "        )\n",
    "\n",
    "        experiments[corruption] = {\n",
    "            \"dsets\": dsets,\n",
    "            \"train_loader\": train_loader,\n",
    "            \"test_loader\": test_loader,\n",
    "            \"train_loader_ordered\": train_loader_ordered,\n",
    "        }\n",
    "    return experiments\n",
    "\n",
    "\n",
    "def build_train(train_loader, test_loader, net, log_name):\n",
    "    tb_cb = TensorBoardCallback(Path(\"logs\") / log_name)    \n",
    "\n",
    "    data = DataLoaders(train_loader, test_loader)\n",
    "    learn = Learner(\n",
    "        data,\n",
    "        net,\n",
    "        loss_func=F.cross_entropy,\n",
    "        opt_func=Adam,\n",
    "        metrics=[accuracy, top_k_accuracy],\n",
    "        cbs=[tb_cb],\n",
    "    )\n",
    "\n",
    "    return learn\n",
    "\n",
    "\n",
    "experiments = build_experiments(corrupt_prob=0.3)\n",
    "experiments[\"partial_labels\"]"
   ]
  },
  {
   "cell_type": "code",
   "execution_count": 5,
   "metadata": {},
   "outputs": [
    {
     "name": "stdout",
     "output_type": "stream",
     "text": [
      "dict_keys(['alexnet', 'inception', 'mlp_1x512', 'mlp_3x512'])\n"
     ]
    }
   ],
   "source": [
    "from generalization.models import get_cifar_models\n",
    "\n",
    "models = get_cifar_models(lib=\"torch\")\n",
    "print(models.keys())"
   ]
  },
  {
   "attachments": {},
   "cell_type": "markdown",
   "metadata": {},
   "source": [
    "## All Corruptions"
   ]
  },
  {
   "cell_type": "code",
   "execution_count": 6,
   "metadata": {},
   "outputs": [],
   "source": [
    "import lightning as L\n",
    "import torchmetrics\n",
    "from lightning.pytorch.loggers import WandbLogger\n",
    "\n",
    "\n",
    "class LitModel(L.LightningModule):\n",
    "    def __init__(self, net: nn.Module, lr: float = 1e-3, n_classes=10):\n",
    "        super().__init__()\n",
    "        self.net = net\n",
    "        self.lr = lr\n",
    "        self.n_classes = n_classes\n",
    "        self.train_acc = torchmetrics.Accuracy(task=\"multiclass\", num_classes=n_classes)\n",
    "        self.valid_acc = torchmetrics.Accuracy(task=\"multiclass\", num_classes=n_classes)\n",
    "        self.valid_top5_acc = torchmetrics.Accuracy(\n",
    "            task=\"multiclass\", num_classes=n_classes, top_k=5\n",
    "        )\n",
    "\n",
    "    def forward(self, x):\n",
    "        out = self.net(x)\n",
    "        return out\n",
    "\n",
    "    def training_step(self, batch, batch_idx):\n",
    "        # training_step defines the train loop. It is independent of forward\n",
    "        x, y = batch\n",
    "        logits = self(x)\n",
    "        loss = F.cross_entropy(logits, y)\n",
    "\n",
    "        self.log(\"train/loss\", loss, on_epoch=True, on_step=False, prog_bar=True)\n",
    "        self.step_metrics(logits=logits, y=y, mode=\"train\")\n",
    "        return loss\n",
    "\n",
    "    def validation_step(self, batch, batch_idx):\n",
    "        x, y = batch\n",
    "        logits = self(x)\n",
    "        loss = F.cross_entropy(logits, y)\n",
    "\n",
    "        self.log(\"valid/loss\", loss)\n",
    "        self.step_metrics(logits=logits, y=y, mode=\"val\")\n",
    "        return loss\n",
    "\n",
    "    def step_metrics(self, logits, y, mode):\n",
    "        if mode == \"train\":\n",
    "            self.train_acc.update(logits, y)\n",
    "            self.log(\n",
    "                \"train/acc\", self.train_acc, on_step=False, on_epoch=True, prog_bar=True\n",
    "            )\n",
    "\n",
    "        elif mode == \"val\":\n",
    "            self.valid_acc.update(logits, y)\n",
    "            self.valid_top5_acc.update(logits, y)\n",
    "\n",
    "            self.log(\n",
    "                \"valid/acc\",\n",
    "                self.valid_acc.compute(),\n",
    "                on_step=False,\n",
    "                on_epoch=True,\n",
    "                prog_bar=True,\n",
    "            )\n",
    "            self.log(\n",
    "                \"valid/top5_acc\",\n",
    "                self.valid_top5_acc.compute(),\n",
    "                on_step=False,\n",
    "                on_epoch=True,\n",
    "                prog_bar=True,\n",
    "            )\n",
    "\n",
    "    def configure_optimizers(self):\n",
    "        optimizer = torch.optim.SGD(self.net.parameters(), lr=0.1, momentum=0.9)\n",
    "        scheduler = torch.optim.lr_scheduler.StepLR(optimizer, 1, gamma=0.95)\n",
    "        return [optimizer], [scheduler]"
   ]
  },
  {
   "cell_type": "code",
   "execution_count": 8,
   "metadata": {},
   "outputs": [
    {
     "name": "stderr",
     "output_type": "stream",
     "text": [
      "/home/step/.mambaforge/envs/generalization/lib/python3.10/site-packages/lightning/pytorch/loggers/wandb.py:395: UserWarning: There is a wandb run already in progress and newly created instances of `WandbLogger` will reuse this run. If this is not desired, call `wandb.finish()` before instantiating `WandbLogger`.\n",
      "  rank_zero_warn(\n",
      "GPU available: True (cuda), used: True\n",
      "TPU available: False, using: 0 TPU cores\n",
      "IPU available: False, using: 0 IPUs\n",
      "HPU available: False, using: 0 HPUs\n",
      "LOCAL_RANK: 0 - CUDA_VISIBLE_DEVICES: [0]\n",
      "\n",
      "  | Name           | Type               | Params\n",
      "------------------------------------------------------\n",
      "0 | net            | InceptionSmall     | 8.0 M \n",
      "1 | train_acc      | MulticlassAccuracy | 0     \n",
      "2 | valid_acc      | MulticlassAccuracy | 0     \n",
      "3 | valid_top5_acc | MulticlassAccuracy | 0     \n",
      "------------------------------------------------------\n",
      "8.0 M     Trainable params\n",
      "0         Non-trainable params\n",
      "8.0 M     Total params\n",
      "32.191    Total estimated model params size (MB)\n"
     ]
    },
    {
     "name": "stdout",
     "output_type": "stream",
     "text": [
      "Sanity Checking: 0it [00:00, ?it/s]"
     ]
    },
    {
     "name": "stdout",
     "output_type": "stream",
     "text": [
      "Epoch 9: 100%|██████████| 196/196 [00:15<00:00, 12.74it/s, v_num=q18f, valid/acc=0.100, valid/top5_acc=0.500, train/loss=nan.0, train/acc=0.100]"
     ]
    },
    {
     "name": "stderr",
     "output_type": "stream",
     "text": [
      "`Trainer.fit` stopped: `max_epochs=10` reached.\n"
     ]
    },
    {
     "name": "stdout",
     "output_type": "stream",
     "text": [
      "Epoch 9: 100%|██████████| 196/196 [00:15<00:00, 12.64it/s, v_num=q18f, valid/acc=0.100, valid/top5_acc=0.500, train/loss=nan.0, train/acc=0.100]\n"
     ]
    },
    {
     "name": "stderr",
     "output_type": "stream",
     "text": [
      "wandb: Network error (ConnectTimeout), entering retry loop.\n"
     ]
    }
   ],
   "source": [
    "model = \"inception\"\n",
    "corruption = \"shuffled_pixels\"\n",
    "net = models.get(model)\n",
    "logger = WandbLogger(\n",
    "    name=f\"{model}\",\n",
    "    project=\"generalization\",\n",
    "    log_model=True,\n",
    "    save_dir=\"logs\",\n",
    "    group=f\"{corruption}\"\n",
    ")\n",
    "trainer = L.Trainer(max_epochs=10, logger=logger, default_root_dir=\"logs\")\n",
    "pl_model = LitModel(net)\n",
    "start_time = time.time()\n",
    "trainer.fit(\n",
    "    pl_model,\n",
    "    experiments[corruption][\"train_loader\"],\n",
    "    experiments[corruption][\"test_loader\"],\n",
    ")"
   ]
  },
  {
   "cell_type": "code",
   "execution_count": 7,
   "metadata": {},
   "outputs": [
    {
     "name": "stderr",
     "output_type": "stream",
     "text": [
      "Failed to detect the name of this notebook, you can set it manually with the WANDB_NOTEBOOK_NAME environment variable to enable code saving.\n"
     ]
    },
    {
     "name": "stdout",
     "output_type": "stream",
     "text": [
      "Model: alexnet\n",
      "Corruption: random_labels\n"
     ]
    },
    {
     "name": "stderr",
     "output_type": "stream",
     "text": [
      "\u001b[34m\u001b[1mwandb\u001b[0m: Currently logged in as: \u001b[33mstepp1\u001b[0m. Use \u001b[1m`wandb login --relogin`\u001b[0m to force relogin\n"
     ]
    },
    {
     "data": {
      "text/html": [
       "Tracking run with wandb version 0.15.3"
      ],
      "text/plain": [
       "<IPython.core.display.HTML object>"
      ]
     },
     "metadata": {},
     "output_type": "display_data"
    },
    {
     "data": {
      "text/html": [
       "Run data is saved locally in <code>logs/wandb/run-20230530_160718-scmuv27c</code>"
      ],
      "text/plain": [
       "<IPython.core.display.HTML object>"
      ]
     },
     "metadata": {},
     "output_type": "display_data"
    },
    {
     "data": {
      "text/html": [
       "Syncing run <strong><a href='https://wandb.ai/stepp1/generalization/runs/scmuv27c' target=\"_blank\">alexnet</a></strong> to <a href='https://wandb.ai/stepp1/generalization' target=\"_blank\">Weights & Biases</a> (<a href='https://wandb.me/run' target=\"_blank\">docs</a>)<br/>"
      ],
      "text/plain": [
       "<IPython.core.display.HTML object>"
      ]
     },
     "metadata": {},
     "output_type": "display_data"
    },
    {
     "data": {
      "text/html": [
       " View project at <a href='https://wandb.ai/stepp1/generalization' target=\"_blank\">https://wandb.ai/stepp1/generalization</a>"
      ],
      "text/plain": [
       "<IPython.core.display.HTML object>"
      ]
     },
     "metadata": {},
     "output_type": "display_data"
    },
    {
     "data": {
      "text/html": [
       " View run at <a href='https://wandb.ai/stepp1/generalization/runs/scmuv27c' target=\"_blank\">https://wandb.ai/stepp1/generalization/runs/scmuv27c</a>"
      ],
      "text/plain": [
       "<IPython.core.display.HTML object>"
      ]
     },
     "metadata": {},
     "output_type": "display_data"
    },
    {
     "name": "stderr",
     "output_type": "stream",
     "text": [
      "GPU available: True (cuda), used: True\n",
      "TPU available: False, using: 0 TPU cores\n",
      "IPU available: False, using: 0 IPUs\n",
      "HPU available: False, using: 0 HPUs\n",
      "LOCAL_RANK: 0 - CUDA_VISIBLE_DEVICES: [0]\n",
      "\n",
      "  | Name           | Type               | Params\n",
      "------------------------------------------------------\n",
      "0 | net            | SmallAlexNet       | 56.8 M\n",
      "1 | train_acc      | MulticlassAccuracy | 0     \n",
      "2 | valid_acc      | MulticlassAccuracy | 0     \n",
      "3 | valid_top5_acc | MulticlassAccuracy | 0     \n",
      "------------------------------------------------------\n",
      "56.8 M    Trainable params\n",
      "0         Non-trainable params\n",
      "56.8 M    Total params\n",
      "227.307   Total estimated model params size (MB)\n"
     ]
    },
    {
     "name": "stdout",
     "output_type": "stream",
     "text": [
      "Epoch 9: 100%|██████████| 196/196 [00:13<00:00, 14.88it/s, v_num=v27c, valid/acc=0.528, valid/top5_acc=0.931, train/loss=1.130, train/acc=0.602]"
     ]
    },
    {
     "name": "stderr",
     "output_type": "stream",
     "text": [
      "`Trainer.fit` stopped: `max_epochs=10` reached.\n"
     ]
    },
    {
     "name": "stdout",
     "output_type": "stream",
     "text": [
      "Epoch 9: 100%|██████████| 196/196 [00:14<00:00, 13.31it/s, v_num=v27c, valid/acc=0.528, valid/top5_acc=0.931, train/loss=1.130, train/acc=0.602]\n",
      "== Total time: 158.392 s, 2.640 min\n"
     ]
    },
    {
     "data": {
      "text/html": [
       "Waiting for W&B process to finish... <strong style=\"color:green\">(success).</strong>"
      ],
      "text/plain": [
       "<IPython.core.display.HTML object>"
      ]
     },
     "metadata": {},
     "output_type": "display_data"
    },
    {
     "data": {
      "text/html": [
       "<style>\n",
       "    table.wandb td:nth-child(1) { padding: 0 10px; text-align: left ; width: auto;} td:nth-child(2) {text-align: left ; width: 100%}\n",
       "    .wandb-row { display: flex; flex-direction: row; flex-wrap: wrap; justify-content: flex-start; width: 100% }\n",
       "    .wandb-col { display: flex; flex-direction: column; flex-basis: 100%; flex: 1; padding: 10px; }\n",
       "    </style>\n",
       "<div class=\"wandb-row\"><div class=\"wandb-col\"><h3>Run history:</h3><br/><table class=\"wandb\"><tr><td>epoch</td><td>▁▁▂▂▃▃▃▃▄▄▅▅▆▆▆▆▇▇██</td></tr><tr><td>train/acc</td><td>▁▃▅▆▆▇▇▇██</td></tr><tr><td>train/loss</td><td>█▆▄▄▃▃▂▂▁▁</td></tr><tr><td>trainer/global_step</td><td>▁▁▂▂▃▃▃▃▄▄▅▅▆▆▆▆▇▇██</td></tr><tr><td>valid/acc</td><td>▁▃▄▅▆▆▇▇██</td></tr><tr><td>valid/loss</td><td>█▅▄▄▃▂▂▂▁▁</td></tr><tr><td>valid/top5_acc</td><td>▁▅▆▆▇▇▇███</td></tr></table><br/></div><div class=\"wandb-col\"><h3>Run summary:</h3><br/><table class=\"wandb\"><tr><td>epoch</td><td>9</td></tr><tr><td>train/acc</td><td>0.6024</td></tr><tr><td>train/loss</td><td>1.13161</td></tr><tr><td>trainer/global_step</td><td>1959</td></tr><tr><td>valid/acc</td><td>0.52791</td></tr><tr><td>valid/loss</td><td>1.09015</td></tr><tr><td>valid/top5_acc</td><td>0.93081</td></tr></table><br/></div></div>"
      ],
      "text/plain": [
       "<IPython.core.display.HTML object>"
      ]
     },
     "metadata": {},
     "output_type": "display_data"
    },
    {
     "data": {
      "text/html": [
       " View run <strong style=\"color:#cdcd00\">alexnet</strong> at: <a href='https://wandb.ai/stepp1/generalization/runs/scmuv27c' target=\"_blank\">https://wandb.ai/stepp1/generalization/runs/scmuv27c</a><br/>Synced 7 W&B file(s), 0 media file(s), 1 artifact file(s) and 1 other file(s)"
      ],
      "text/plain": [
       "<IPython.core.display.HTML object>"
      ]
     },
     "metadata": {},
     "output_type": "display_data"
    },
    {
     "data": {
      "text/html": [
       "Find logs at: <code>logs/wandb/run-20230530_160718-scmuv27c/logs</code>"
      ],
      "text/plain": [
       "<IPython.core.display.HTML object>"
      ]
     },
     "metadata": {},
     "output_type": "display_data"
    },
    {
     "name": "stdout",
     "output_type": "stream",
     "text": [
      "Corruption: partial_labels\n"
     ]
    },
    {
     "data": {
      "text/html": [
       "Tracking run with wandb version 0.15.3"
      ],
      "text/plain": [
       "<IPython.core.display.HTML object>"
      ]
     },
     "metadata": {},
     "output_type": "display_data"
    },
    {
     "data": {
      "text/html": [
       "Run data is saved locally in <code>logs/wandb/run-20230530_161031-x3nir798</code>"
      ],
      "text/plain": [
       "<IPython.core.display.HTML object>"
      ]
     },
     "metadata": {},
     "output_type": "display_data"
    },
    {
     "data": {
      "text/html": [
       "Syncing run <strong><a href='https://wandb.ai/stepp1/generalization/runs/x3nir798' target=\"_blank\">alexnet</a></strong> to <a href='https://wandb.ai/stepp1/generalization' target=\"_blank\">Weights & Biases</a> (<a href='https://wandb.me/run' target=\"_blank\">docs</a>)<br/>"
      ],
      "text/plain": [
       "<IPython.core.display.HTML object>"
      ]
     },
     "metadata": {},
     "output_type": "display_data"
    },
    {
     "data": {
      "text/html": [
       " View project at <a href='https://wandb.ai/stepp1/generalization' target=\"_blank\">https://wandb.ai/stepp1/generalization</a>"
      ],
      "text/plain": [
       "<IPython.core.display.HTML object>"
      ]
     },
     "metadata": {},
     "output_type": "display_data"
    },
    {
     "data": {
      "text/html": [
       " View run at <a href='https://wandb.ai/stepp1/generalization/runs/x3nir798' target=\"_blank\">https://wandb.ai/stepp1/generalization/runs/x3nir798</a>"
      ],
      "text/plain": [
       "<IPython.core.display.HTML object>"
      ]
     },
     "metadata": {},
     "output_type": "display_data"
    },
    {
     "name": "stderr",
     "output_type": "stream",
     "text": [
      "GPU available: True (cuda), used: True\n",
      "TPU available: False, using: 0 TPU cores\n",
      "IPU available: False, using: 0 IPUs\n",
      "HPU available: False, using: 0 HPUs\n",
      "LOCAL_RANK: 0 - CUDA_VISIBLE_DEVICES: [0]\n",
      "\n",
      "  | Name           | Type               | Params\n",
      "------------------------------------------------------\n",
      "0 | net            | SmallAlexNet       | 56.8 M\n",
      "1 | train_acc      | MulticlassAccuracy | 0     \n",
      "2 | valid_acc      | MulticlassAccuracy | 0     \n",
      "3 | valid_top5_acc | MulticlassAccuracy | 0     \n",
      "------------------------------------------------------\n",
      "56.8 M    Trainable params\n",
      "0         Non-trainable params\n",
      "56.8 M    Total params\n",
      "227.307   Total estimated model params size (MB)\n"
     ]
    },
    {
     "name": "stdout",
     "output_type": "stream",
     "text": [
      "Epoch 9: 100%|██████████| 196/196 [00:13<00:00, 14.80it/s, v_num=r798, valid/acc=0.653, valid/top5_acc=0.955, train/loss=0.823, train/acc=0.710]"
     ]
    },
    {
     "name": "stderr",
     "output_type": "stream",
     "text": [
      "`Trainer.fit` stopped: `max_epochs=10` reached.\n"
     ]
    },
    {
     "name": "stdout",
     "output_type": "stream",
     "text": [
      "Epoch 9: 100%|██████████| 196/196 [00:15<00:00, 13.01it/s, v_num=r798, valid/acc=0.653, valid/top5_acc=0.955, train/loss=0.823, train/acc=0.710]\n",
      "== Total time: 156.989 s, 2.616 min\n"
     ]
    },
    {
     "data": {
      "text/html": [
       "Waiting for W&B process to finish... <strong style=\"color:green\">(success).</strong>"
      ],
      "text/plain": [
       "<IPython.core.display.HTML object>"
      ]
     },
     "metadata": {},
     "output_type": "display_data"
    },
    {
     "data": {
      "text/html": [
       "<style>\n",
       "    table.wandb td:nth-child(1) { padding: 0 10px; text-align: left ; width: auto;} td:nth-child(2) {text-align: left ; width: 100%}\n",
       "    .wandb-row { display: flex; flex-direction: row; flex-wrap: wrap; justify-content: flex-start; width: 100% }\n",
       "    .wandb-col { display: flex; flex-direction: column; flex-basis: 100%; flex: 1; padding: 10px; }\n",
       "    </style>\n",
       "<div class=\"wandb-row\"><div class=\"wandb-col\"><h3>Run history:</h3><br/><table class=\"wandb\"><tr><td>epoch</td><td>▁▁▂▂▃▃▃▃▄▄▅▅▆▆▆▆▇▇██</td></tr><tr><td>train/acc</td><td>▁▂▃▄▅▆▆▇▇█</td></tr><tr><td>train/loss</td><td>█▇▆▅▄▃▃▂▂▁</td></tr><tr><td>trainer/global_step</td><td>▁▁▂▂▃▃▃▃▄▄▅▅▆▆▆▆▇▇██</td></tr><tr><td>valid/acc</td><td>▁▅▄▅▆▆▆▇██</td></tr><tr><td>valid/loss</td><td>▁▃▄▄▃▅▄▆▅█</td></tr><tr><td>valid/top5_acc</td><td>█▄▁▂▅▆▅▅▅▅</td></tr></table><br/></div><div class=\"wandb-col\"><h3>Run summary:</h3><br/><table class=\"wandb\"><tr><td>epoch</td><td>9</td></tr><tr><td>train/acc</td><td>0.71026</td></tr><tr><td>train/loss</td><td>0.82303</td></tr><tr><td>trainer/global_step</td><td>1959</td></tr><tr><td>valid/acc</td><td>0.65269</td></tr><tr><td>valid/loss</td><td>1.20825</td></tr><tr><td>valid/top5_acc</td><td>0.95532</td></tr></table><br/></div></div>"
      ],
      "text/plain": [
       "<IPython.core.display.HTML object>"
      ]
     },
     "metadata": {},
     "output_type": "display_data"
    },
    {
     "data": {
      "text/html": [
       " View run <strong style=\"color:#cdcd00\">alexnet</strong> at: <a href='https://wandb.ai/stepp1/generalization/runs/x3nir798' target=\"_blank\">https://wandb.ai/stepp1/generalization/runs/x3nir798</a><br/>Synced 7 W&B file(s), 0 media file(s), 1 artifact file(s) and 1 other file(s)"
      ],
      "text/plain": [
       "<IPython.core.display.HTML object>"
      ]
     },
     "metadata": {},
     "output_type": "display_data"
    },
    {
     "data": {
      "text/html": [
       "Find logs at: <code>logs/wandb/run-20230530_161031-x3nir798/logs</code>"
      ],
      "text/plain": [
       "<IPython.core.display.HTML object>"
      ]
     },
     "metadata": {},
     "output_type": "display_data"
    },
    {
     "name": "stdout",
     "output_type": "stream",
     "text": [
      "Corruption: random_pixels\n"
     ]
    },
    {
     "data": {
      "text/html": [
       "Tracking run with wandb version 0.15.3"
      ],
      "text/plain": [
       "<IPython.core.display.HTML object>"
      ]
     },
     "metadata": {},
     "output_type": "display_data"
    },
    {
     "data": {
      "text/html": [
       "Run data is saved locally in <code>logs/wandb/run-20230530_161344-1luyx79n</code>"
      ],
      "text/plain": [
       "<IPython.core.display.HTML object>"
      ]
     },
     "metadata": {},
     "output_type": "display_data"
    },
    {
     "data": {
      "text/html": [
       "Syncing run <strong><a href='https://wandb.ai/stepp1/generalization/runs/1luyx79n' target=\"_blank\">alexnet</a></strong> to <a href='https://wandb.ai/stepp1/generalization' target=\"_blank\">Weights & Biases</a> (<a href='https://wandb.me/run' target=\"_blank\">docs</a>)<br/>"
      ],
      "text/plain": [
       "<IPython.core.display.HTML object>"
      ]
     },
     "metadata": {},
     "output_type": "display_data"
    },
    {
     "data": {
      "text/html": [
       " View project at <a href='https://wandb.ai/stepp1/generalization' target=\"_blank\">https://wandb.ai/stepp1/generalization</a>"
      ],
      "text/plain": [
       "<IPython.core.display.HTML object>"
      ]
     },
     "metadata": {},
     "output_type": "display_data"
    },
    {
     "data": {
      "text/html": [
       " View run at <a href='https://wandb.ai/stepp1/generalization/runs/1luyx79n' target=\"_blank\">https://wandb.ai/stepp1/generalization/runs/1luyx79n</a>"
      ],
      "text/plain": [
       "<IPython.core.display.HTML object>"
      ]
     },
     "metadata": {},
     "output_type": "display_data"
    },
    {
     "name": "stderr",
     "output_type": "stream",
     "text": [
      "GPU available: True (cuda), used: True\n",
      "TPU available: False, using: 0 TPU cores\n",
      "IPU available: False, using: 0 IPUs\n",
      "HPU available: False, using: 0 HPUs\n",
      "LOCAL_RANK: 0 - CUDA_VISIBLE_DEVICES: [0]\n",
      "\n",
      "  | Name           | Type               | Params\n",
      "------------------------------------------------------\n",
      "0 | net            | SmallAlexNet       | 56.8 M\n",
      "1 | train_acc      | MulticlassAccuracy | 0     \n",
      "2 | valid_acc      | MulticlassAccuracy | 0     \n",
      "3 | valid_top5_acc | MulticlassAccuracy | 0     \n",
      "------------------------------------------------------\n",
      "56.8 M    Trainable params\n",
      "0         Non-trainable params\n",
      "56.8 M    Total params\n",
      "227.307   Total estimated model params size (MB)\n"
     ]
    },
    {
     "name": "stdout",
     "output_type": "stream",
     "text": [
      "Epoch 9: 100%|██████████| 196/196 [00:13<00:00, 14.74it/s, v_num=x79n, valid/acc=0.653, valid/top5_acc=0.953, train/loss=0.681, train/acc=0.760]"
     ]
    },
    {
     "name": "stderr",
     "output_type": "stream",
     "text": [
      "`Trainer.fit` stopped: `max_epochs=10` reached.\n"
     ]
    },
    {
     "name": "stdout",
     "output_type": "stream",
     "text": [
      "Epoch 9: 100%|██████████| 196/196 [00:14<00:00, 13.36it/s, v_num=x79n, valid/acc=0.653, valid/top5_acc=0.953, train/loss=0.681, train/acc=0.760]\n",
      "== Total time: 154.394 s, 2.573 min\n"
     ]
    },
    {
     "data": {
      "text/html": [
       "Waiting for W&B process to finish... <strong style=\"color:green\">(success).</strong>"
      ],
      "text/plain": [
       "<IPython.core.display.HTML object>"
      ]
     },
     "metadata": {},
     "output_type": "display_data"
    },
    {
     "data": {
      "text/html": [
       "<style>\n",
       "    table.wandb td:nth-child(1) { padding: 0 10px; text-align: left ; width: auto;} td:nth-child(2) {text-align: left ; width: 100%}\n",
       "    .wandb-row { display: flex; flex-direction: row; flex-wrap: wrap; justify-content: flex-start; width: 100% }\n",
       "    .wandb-col { display: flex; flex-direction: column; flex-basis: 100%; flex: 1; padding: 10px; }\n",
       "    </style>\n",
       "<div class=\"wandb-row\"><div class=\"wandb-col\"><h3>Run history:</h3><br/><table class=\"wandb\"><tr><td>epoch</td><td>▁▁▂▂▃▃▃▃▄▄▅▅▆▆▆▆▇▇██</td></tr><tr><td>train/acc</td><td>▁▃▄▅▅▆▇▇▇█</td></tr><tr><td>train/loss</td><td>█▆▅▄▄▃▂▂▂▁</td></tr><tr><td>trainer/global_step</td><td>▁▁▂▂▃▃▃▃▄▄▅▅▆▆▆▆▇▇██</td></tr><tr><td>valid/acc</td><td>▁▄██▇▆▅▃▃▄</td></tr><tr><td>valid/loss</td><td>▁▂▂▂▅▄▆▆▇█</td></tr><tr><td>valid/top5_acc</td><td>▁▇█▇▆▅▃▁▁▂</td></tr></table><br/></div><div class=\"wandb-col\"><h3>Run summary:</h3><br/><table class=\"wandb\"><tr><td>epoch</td><td>9</td></tr><tr><td>train/acc</td><td>0.75996</td></tr><tr><td>train/loss</td><td>0.68099</td></tr><tr><td>trainer/global_step</td><td>1959</td></tr><tr><td>valid/acc</td><td>0.65278</td></tr><tr><td>valid/loss</td><td>1.55126</td></tr><tr><td>valid/top5_acc</td><td>0.95307</td></tr></table><br/></div></div>"
      ],
      "text/plain": [
       "<IPython.core.display.HTML object>"
      ]
     },
     "metadata": {},
     "output_type": "display_data"
    },
    {
     "data": {
      "text/html": [
       " View run <strong style=\"color:#cdcd00\">alexnet</strong> at: <a href='https://wandb.ai/stepp1/generalization/runs/1luyx79n' target=\"_blank\">https://wandb.ai/stepp1/generalization/runs/1luyx79n</a><br/>Synced 7 W&B file(s), 0 media file(s), 1 artifact file(s) and 1 other file(s)"
      ],
      "text/plain": [
       "<IPython.core.display.HTML object>"
      ]
     },
     "metadata": {},
     "output_type": "display_data"
    },
    {
     "data": {
      "text/html": [
       "Find logs at: <code>logs/wandb/run-20230530_161344-1luyx79n/logs</code>"
      ],
      "text/plain": [
       "<IPython.core.display.HTML object>"
      ]
     },
     "metadata": {},
     "output_type": "display_data"
    },
    {
     "name": "stdout",
     "output_type": "stream",
     "text": [
      "Corruption: shuffled_pixels\n"
     ]
    },
    {
     "data": {
      "text/html": [
       "Tracking run with wandb version 0.15.3"
      ],
      "text/plain": [
       "<IPython.core.display.HTML object>"
      ]
     },
     "metadata": {},
     "output_type": "display_data"
    },
    {
     "data": {
      "text/html": [
       "Run data is saved locally in <code>logs/wandb/run-20230530_161655-t7hz2g1l</code>"
      ],
      "text/plain": [
       "<IPython.core.display.HTML object>"
      ]
     },
     "metadata": {},
     "output_type": "display_data"
    },
    {
     "data": {
      "text/html": [
       "Syncing run <strong><a href='https://wandb.ai/stepp1/generalization/runs/t7hz2g1l' target=\"_blank\">alexnet</a></strong> to <a href='https://wandb.ai/stepp1/generalization' target=\"_blank\">Weights & Biases</a> (<a href='https://wandb.me/run' target=\"_blank\">docs</a>)<br/>"
      ],
      "text/plain": [
       "<IPython.core.display.HTML object>"
      ]
     },
     "metadata": {},
     "output_type": "display_data"
    },
    {
     "data": {
      "text/html": [
       " View project at <a href='https://wandb.ai/stepp1/generalization' target=\"_blank\">https://wandb.ai/stepp1/generalization</a>"
      ],
      "text/plain": [
       "<IPython.core.display.HTML object>"
      ]
     },
     "metadata": {},
     "output_type": "display_data"
    },
    {
     "data": {
      "text/html": [
       " View run at <a href='https://wandb.ai/stepp1/generalization/runs/t7hz2g1l' target=\"_blank\">https://wandb.ai/stepp1/generalization/runs/t7hz2g1l</a>"
      ],
      "text/plain": [
       "<IPython.core.display.HTML object>"
      ]
     },
     "metadata": {},
     "output_type": "display_data"
    },
    {
     "name": "stderr",
     "output_type": "stream",
     "text": [
      "GPU available: True (cuda), used: True\n",
      "TPU available: False, using: 0 TPU cores\n",
      "IPU available: False, using: 0 IPUs\n",
      "HPU available: False, using: 0 HPUs\n",
      "LOCAL_RANK: 0 - CUDA_VISIBLE_DEVICES: [0]\n",
      "\n",
      "  | Name           | Type               | Params\n",
      "------------------------------------------------------\n",
      "0 | net            | SmallAlexNet       | 56.8 M\n",
      "1 | train_acc      | MulticlassAccuracy | 0     \n",
      "2 | valid_acc      | MulticlassAccuracy | 0     \n",
      "3 | valid_top5_acc | MulticlassAccuracy | 0     \n",
      "------------------------------------------------------\n",
      "56.8 M    Trainable params\n",
      "0         Non-trainable params\n",
      "56.8 M    Total params\n",
      "227.307   Total estimated model params size (MB)\n"
     ]
    },
    {
     "name": "stdout",
     "output_type": "stream",
     "text": [
      "Epoch 9: 100%|██████████| 196/196 [00:13<00:00, 14.72it/s, v_num=2g1l, valid/acc=0.651, valid/top5_acc=0.949, train/loss=0.620, train/acc=0.776]"
     ]
    },
    {
     "name": "stderr",
     "output_type": "stream",
     "text": [
      "`Trainer.fit` stopped: `max_epochs=10` reached.\n"
     ]
    },
    {
     "name": "stdout",
     "output_type": "stream",
     "text": [
      "Epoch 9: 100%|██████████| 196/196 [00:14<00:00, 13.39it/s, v_num=2g1l, valid/acc=0.651, valid/top5_acc=0.949, train/loss=0.620, train/acc=0.776]\n",
      "== Total time: 155.472 s, 2.591 min\n",
      "Model: inception\n"
     ]
    },
    {
     "data": {
      "text/html": [
       "Waiting for W&B process to finish... <strong style=\"color:green\">(success).</strong>"
      ],
      "text/plain": [
       "<IPython.core.display.HTML object>"
      ]
     },
     "metadata": {},
     "output_type": "display_data"
    },
    {
     "data": {
      "text/html": [
       "<style>\n",
       "    table.wandb td:nth-child(1) { padding: 0 10px; text-align: left ; width: auto;} td:nth-child(2) {text-align: left ; width: 100%}\n",
       "    .wandb-row { display: flex; flex-direction: row; flex-wrap: wrap; justify-content: flex-start; width: 100% }\n",
       "    .wandb-col { display: flex; flex-direction: column; flex-basis: 100%; flex: 1; padding: 10px; }\n",
       "    </style>\n",
       "<div class=\"wandb-row\"><div class=\"wandb-col\"><h3>Run history:</h3><br/><table class=\"wandb\"><tr><td>epoch</td><td>▁▁▂▂▃▃▃▃▄▄▅▅▆▆▆▆▇▇██</td></tr><tr><td>train/acc</td><td>▁▃▅▅▆▆▇▇██</td></tr><tr><td>train/loss</td><td>█▆▅▄▃▃▃▂▁▁</td></tr><tr><td>trainer/global_step</td><td>▁▁▂▂▃▃▃▃▄▄▅▅▆▆▆▆▇▇██</td></tr><tr><td>valid/acc</td><td>▁▄▇█▇▇▇▆▇▇</td></tr><tr><td>valid/loss</td><td>▁▃▃▄▆▃▆▇▆█</td></tr><tr><td>valid/top5_acc</td><td>█▃▃▃▁▂▂▃▃▄</td></tr></table><br/></div><div class=\"wandb-col\"><h3>Run summary:</h3><br/><table class=\"wandb\"><tr><td>epoch</td><td>9</td></tr><tr><td>train/acc</td><td>0.7763</td></tr><tr><td>train/loss</td><td>0.62008</td></tr><tr><td>trainer/global_step</td><td>1959</td></tr><tr><td>valid/acc</td><td>0.6511</td></tr><tr><td>valid/loss</td><td>1.82681</td></tr><tr><td>valid/top5_acc</td><td>0.94882</td></tr></table><br/></div></div>"
      ],
      "text/plain": [
       "<IPython.core.display.HTML object>"
      ]
     },
     "metadata": {},
     "output_type": "display_data"
    },
    {
     "data": {
      "text/html": [
       " View run <strong style=\"color:#cdcd00\">alexnet</strong> at: <a href='https://wandb.ai/stepp1/generalization/runs/t7hz2g1l' target=\"_blank\">https://wandb.ai/stepp1/generalization/runs/t7hz2g1l</a><br/>Synced 7 W&B file(s), 0 media file(s), 1 artifact file(s) and 1 other file(s)"
      ],
      "text/plain": [
       "<IPython.core.display.HTML object>"
      ]
     },
     "metadata": {},
     "output_type": "display_data"
    },
    {
     "data": {
      "text/html": [
       "Find logs at: <code>logs/wandb/run-20230530_161655-t7hz2g1l/logs</code>"
      ],
      "text/plain": [
       "<IPython.core.display.HTML object>"
      ]
     },
     "metadata": {},
     "output_type": "display_data"
    },
    {
     "name": "stdout",
     "output_type": "stream",
     "text": [
      "Corruption: random_labels\n"
     ]
    },
    {
     "data": {
      "text/html": [
       "Tracking run with wandb version 0.15.3"
      ],
      "text/plain": [
       "<IPython.core.display.HTML object>"
      ]
     },
     "metadata": {},
     "output_type": "display_data"
    },
    {
     "data": {
      "text/html": [
       "Run data is saved locally in <code>logs/wandb/run-20230530_162007-nwyucgf8</code>"
      ],
      "text/plain": [
       "<IPython.core.display.HTML object>"
      ]
     },
     "metadata": {},
     "output_type": "display_data"
    },
    {
     "data": {
      "text/html": [
       "Syncing run <strong><a href='https://wandb.ai/stepp1/generalization/runs/nwyucgf8' target=\"_blank\">inception</a></strong> to <a href='https://wandb.ai/stepp1/generalization' target=\"_blank\">Weights & Biases</a> (<a href='https://wandb.me/run' target=\"_blank\">docs</a>)<br/>"
      ],
      "text/plain": [
       "<IPython.core.display.HTML object>"
      ]
     },
     "metadata": {},
     "output_type": "display_data"
    },
    {
     "data": {
      "text/html": [
       " View project at <a href='https://wandb.ai/stepp1/generalization' target=\"_blank\">https://wandb.ai/stepp1/generalization</a>"
      ],
      "text/plain": [
       "<IPython.core.display.HTML object>"
      ]
     },
     "metadata": {},
     "output_type": "display_data"
    },
    {
     "data": {
      "text/html": [
       " View run at <a href='https://wandb.ai/stepp1/generalization/runs/nwyucgf8' target=\"_blank\">https://wandb.ai/stepp1/generalization/runs/nwyucgf8</a>"
      ],
      "text/plain": [
       "<IPython.core.display.HTML object>"
      ]
     },
     "metadata": {},
     "output_type": "display_data"
    },
    {
     "name": "stderr",
     "output_type": "stream",
     "text": [
      "GPU available: True (cuda), used: True\n",
      "TPU available: False, using: 0 TPU cores\n",
      "IPU available: False, using: 0 IPUs\n",
      "HPU available: False, using: 0 HPUs\n",
      "LOCAL_RANK: 0 - CUDA_VISIBLE_DEVICES: [0]\n",
      "\n",
      "  | Name           | Type               | Params\n",
      "------------------------------------------------------\n",
      "0 | net            | InceptionSmall     | 8.0 M \n",
      "1 | train_acc      | MulticlassAccuracy | 0     \n",
      "2 | valid_acc      | MulticlassAccuracy | 0     \n",
      "3 | valid_top5_acc | MulticlassAccuracy | 0     \n",
      "------------------------------------------------------\n",
      "8.0 M     Trainable params\n",
      "0         Non-trainable params\n",
      "8.0 M     Total params\n",
      "32.191    Total estimated model params size (MB)\n"
     ]
    },
    {
     "name": "stdout",
     "output_type": "stream",
     "text": [
      "Epoch 9: 100%|██████████| 196/196 [00:15<00:00, 12.52it/s, v_num=cgf8, valid/acc=0.669, valid/top5_acc=0.961, train/loss=0.744, train/acc=0.735]"
     ]
    },
    {
     "name": "stderr",
     "output_type": "stream",
     "text": [
      "`Trainer.fit` stopped: `max_epochs=10` reached.\n"
     ]
    },
    {
     "name": "stdout",
     "output_type": "stream",
     "text": [
      "Epoch 9: 100%|██████████| 196/196 [00:15<00:00, 12.39it/s, v_num=cgf8, valid/acc=0.669, valid/top5_acc=0.961, train/loss=0.744, train/acc=0.735]\n",
      "== Total time: 160.573 s, 2.676 min\n"
     ]
    },
    {
     "data": {
      "text/html": [
       "Waiting for W&B process to finish... <strong style=\"color:green\">(success).</strong>"
      ],
      "text/plain": [
       "<IPython.core.display.HTML object>"
      ]
     },
     "metadata": {},
     "output_type": "display_data"
    },
    {
     "data": {
      "text/html": [
       "<style>\n",
       "    table.wandb td:nth-child(1) { padding: 0 10px; text-align: left ; width: auto;} td:nth-child(2) {text-align: left ; width: 100%}\n",
       "    .wandb-row { display: flex; flex-direction: row; flex-wrap: wrap; justify-content: flex-start; width: 100% }\n",
       "    .wandb-col { display: flex; flex-direction: column; flex-basis: 100%; flex: 1; padding: 10px; }\n",
       "    </style>\n",
       "<div class=\"wandb-row\"><div class=\"wandb-col\"><h3>Run history:</h3><br/><table class=\"wandb\"><tr><td>epoch</td><td>▁▁▂▂▃▃▃▃▄▄▅▅▆▆▆▆▇▇██</td></tr><tr><td>train/acc</td><td>▁▃▅▅▆▇▇▇██</td></tr><tr><td>train/loss</td><td>█▅▄▃▃▂▂▂▁▁</td></tr><tr><td>trainer/global_step</td><td>▁▁▂▂▃▃▃▃▄▄▅▅▆▆▆▆▇▇██</td></tr><tr><td>valid/acc</td><td>▁▃▄▅▆▆▇▇██</td></tr><tr><td>valid/loss</td><td>█▆▅▅▃▃▂▂▁▁</td></tr><tr><td>valid/top5_acc</td><td>▁▅▆▆▇▇▇███</td></tr></table><br/></div><div class=\"wandb-col\"><h3>Run summary:</h3><br/><table class=\"wandb\"><tr><td>epoch</td><td>9</td></tr><tr><td>train/acc</td><td>0.73516</td></tr><tr><td>train/loss</td><td>0.74359</td></tr><tr><td>trainer/global_step</td><td>1959</td></tr><tr><td>valid/acc</td><td>0.66893</td></tr><tr><td>valid/loss</td><td>0.62838</td></tr><tr><td>valid/top5_acc</td><td>0.96117</td></tr></table><br/></div></div>"
      ],
      "text/plain": [
       "<IPython.core.display.HTML object>"
      ]
     },
     "metadata": {},
     "output_type": "display_data"
    },
    {
     "data": {
      "text/html": [
       " View run <strong style=\"color:#cdcd00\">inception</strong> at: <a href='https://wandb.ai/stepp1/generalization/runs/nwyucgf8' target=\"_blank\">https://wandb.ai/stepp1/generalization/runs/nwyucgf8</a><br/>Synced 7 W&B file(s), 0 media file(s), 1 artifact file(s) and 1 other file(s)"
      ],
      "text/plain": [
       "<IPython.core.display.HTML object>"
      ]
     },
     "metadata": {},
     "output_type": "display_data"
    },
    {
     "data": {
      "text/html": [
       "Find logs at: <code>logs/wandb/run-20230530_162007-nwyucgf8/logs</code>"
      ],
      "text/plain": [
       "<IPython.core.display.HTML object>"
      ]
     },
     "metadata": {},
     "output_type": "display_data"
    },
    {
     "name": "stdout",
     "output_type": "stream",
     "text": [
      "Corruption: partial_labels\n"
     ]
    },
    {
     "data": {
      "text/html": [
       "Tracking run with wandb version 0.15.3"
      ],
      "text/plain": [
       "<IPython.core.display.HTML object>"
      ]
     },
     "metadata": {},
     "output_type": "display_data"
    },
    {
     "data": {
      "text/html": [
       "Run data is saved locally in <code>logs/wandb/run-20230530_162308-imlid9pm</code>"
      ],
      "text/plain": [
       "<IPython.core.display.HTML object>"
      ]
     },
     "metadata": {},
     "output_type": "display_data"
    },
    {
     "data": {
      "text/html": [
       "Syncing run <strong><a href='https://wandb.ai/stepp1/generalization/runs/imlid9pm' target=\"_blank\">inception</a></strong> to <a href='https://wandb.ai/stepp1/generalization' target=\"_blank\">Weights & Biases</a> (<a href='https://wandb.me/run' target=\"_blank\">docs</a>)<br/>"
      ],
      "text/plain": [
       "<IPython.core.display.HTML object>"
      ]
     },
     "metadata": {},
     "output_type": "display_data"
    },
    {
     "data": {
      "text/html": [
       " View project at <a href='https://wandb.ai/stepp1/generalization' target=\"_blank\">https://wandb.ai/stepp1/generalization</a>"
      ],
      "text/plain": [
       "<IPython.core.display.HTML object>"
      ]
     },
     "metadata": {},
     "output_type": "display_data"
    },
    {
     "data": {
      "text/html": [
       " View run at <a href='https://wandb.ai/stepp1/generalization/runs/imlid9pm' target=\"_blank\">https://wandb.ai/stepp1/generalization/runs/imlid9pm</a>"
      ],
      "text/plain": [
       "<IPython.core.display.HTML object>"
      ]
     },
     "metadata": {},
     "output_type": "display_data"
    },
    {
     "name": "stderr",
     "output_type": "stream",
     "text": [
      "GPU available: True (cuda), used: True\n",
      "TPU available: False, using: 0 TPU cores\n",
      "IPU available: False, using: 0 IPUs\n",
      "HPU available: False, using: 0 HPUs\n",
      "LOCAL_RANK: 0 - CUDA_VISIBLE_DEVICES: [0]\n",
      "\n",
      "  | Name           | Type               | Params\n",
      "------------------------------------------------------\n",
      "0 | net            | InceptionSmall     | 8.0 M \n",
      "1 | train_acc      | MulticlassAccuracy | 0     \n",
      "2 | valid_acc      | MulticlassAccuracy | 0     \n",
      "3 | valid_top5_acc | MulticlassAccuracy | 0     \n",
      "------------------------------------------------------\n",
      "8.0 M     Trainable params\n",
      "0         Non-trainable params\n",
      "8.0 M     Total params\n",
      "32.191    Total estimated model params size (MB)\n"
     ]
    },
    {
     "name": "stdout",
     "output_type": "stream",
     "text": [
      "Epoch 9: 100%|██████████| 196/196 [00:15<00:00, 12.46it/s, v_num=d9pm, valid/acc=0.805, valid/top5_acc=0.989, train/loss=0.474, train/acc=0.832]"
     ]
    },
    {
     "name": "stderr",
     "output_type": "stream",
     "text": [
      "`Trainer.fit` stopped: `max_epochs=10` reached.\n"
     ]
    },
    {
     "name": "stdout",
     "output_type": "stream",
     "text": [
      "Epoch 9: 100%|██████████| 196/196 [00:15<00:00, 12.33it/s, v_num=d9pm, valid/acc=0.805, valid/top5_acc=0.989, train/loss=0.474, train/acc=0.832]\n",
      "== Total time: 161.496 s, 2.692 min\n"
     ]
    },
    {
     "data": {
      "text/html": [
       "Waiting for W&B process to finish... <strong style=\"color:green\">(success).</strong>"
      ],
      "text/plain": [
       "<IPython.core.display.HTML object>"
      ]
     },
     "metadata": {},
     "output_type": "display_data"
    },
    {
     "data": {
      "text/html": [
       "<style>\n",
       "    table.wandb td:nth-child(1) { padding: 0 10px; text-align: left ; width: auto;} td:nth-child(2) {text-align: left ; width: 100%}\n",
       "    .wandb-row { display: flex; flex-direction: row; flex-wrap: wrap; justify-content: flex-start; width: 100% }\n",
       "    .wandb-col { display: flex; flex-direction: column; flex-basis: 100%; flex: 1; padding: 10px; }\n",
       "    </style>\n",
       "<div class=\"wandb-row\"><div class=\"wandb-col\"><h3>Run history:</h3><br/><table class=\"wandb\"><tr><td>epoch</td><td>▁▁▂▂▃▃▃▃▄▄▅▅▆▆▆▆▇▇██</td></tr><tr><td>train/acc</td><td>▁▃▄▅▅▆▇▇██</td></tr><tr><td>train/loss</td><td>█▆▅▄▄▃▂▂▁▁</td></tr><tr><td>trainer/global_step</td><td>▁▁▂▂▃▃▃▃▄▄▅▅▆▆▆▆▇▇██</td></tr><tr><td>valid/acc</td><td>▂▁▂▃▄▅▆▇██</td></tr><tr><td>valid/loss</td><td>▂▂▁▃▃▂▄▁▅█</td></tr><tr><td>valid/top5_acc</td><td>█▂▂▂▁▁▂▂▂▂</td></tr></table><br/></div><div class=\"wandb-col\"><h3>Run summary:</h3><br/><table class=\"wandb\"><tr><td>epoch</td><td>9</td></tr><tr><td>train/acc</td><td>0.83246</td></tr><tr><td>train/loss</td><td>0.47445</td></tr><tr><td>trainer/global_step</td><td>1959</td></tr><tr><td>valid/acc</td><td>0.80505</td></tr><tr><td>valid/loss</td><td>0.77167</td></tr><tr><td>valid/top5_acc</td><td>0.98917</td></tr></table><br/></div></div>"
      ],
      "text/plain": [
       "<IPython.core.display.HTML object>"
      ]
     },
     "metadata": {},
     "output_type": "display_data"
    },
    {
     "data": {
      "text/html": [
       " View run <strong style=\"color:#cdcd00\">inception</strong> at: <a href='https://wandb.ai/stepp1/generalization/runs/imlid9pm' target=\"_blank\">https://wandb.ai/stepp1/generalization/runs/imlid9pm</a><br/>Synced 7 W&B file(s), 0 media file(s), 1 artifact file(s) and 1 other file(s)"
      ],
      "text/plain": [
       "<IPython.core.display.HTML object>"
      ]
     },
     "metadata": {},
     "output_type": "display_data"
    },
    {
     "data": {
      "text/html": [
       "Find logs at: <code>logs/wandb/run-20230530_162308-imlid9pm/logs</code>"
      ],
      "text/plain": [
       "<IPython.core.display.HTML object>"
      ]
     },
     "metadata": {},
     "output_type": "display_data"
    },
    {
     "name": "stdout",
     "output_type": "stream",
     "text": [
      "Corruption: random_pixels\n"
     ]
    },
    {
     "data": {
      "text/html": [
       "Tracking run with wandb version 0.15.3"
      ],
      "text/plain": [
       "<IPython.core.display.HTML object>"
      ]
     },
     "metadata": {},
     "output_type": "display_data"
    },
    {
     "data": {
      "text/html": [
       "Run data is saved locally in <code>logs/wandb/run-20230530_162607-2nf5kz8t</code>"
      ],
      "text/plain": [
       "<IPython.core.display.HTML object>"
      ]
     },
     "metadata": {},
     "output_type": "display_data"
    },
    {
     "data": {
      "text/html": [
       "Syncing run <strong><a href='https://wandb.ai/stepp1/generalization/runs/2nf5kz8t' target=\"_blank\">inception</a></strong> to <a href='https://wandb.ai/stepp1/generalization' target=\"_blank\">Weights & Biases</a> (<a href='https://wandb.me/run' target=\"_blank\">docs</a>)<br/>"
      ],
      "text/plain": [
       "<IPython.core.display.HTML object>"
      ]
     },
     "metadata": {},
     "output_type": "display_data"
    },
    {
     "data": {
      "text/html": [
       " View project at <a href='https://wandb.ai/stepp1/generalization' target=\"_blank\">https://wandb.ai/stepp1/generalization</a>"
      ],
      "text/plain": [
       "<IPython.core.display.HTML object>"
      ]
     },
     "metadata": {},
     "output_type": "display_data"
    },
    {
     "data": {
      "text/html": [
       " View run at <a href='https://wandb.ai/stepp1/generalization/runs/2nf5kz8t' target=\"_blank\">https://wandb.ai/stepp1/generalization/runs/2nf5kz8t</a>"
      ],
      "text/plain": [
       "<IPython.core.display.HTML object>"
      ]
     },
     "metadata": {},
     "output_type": "display_data"
    },
    {
     "name": "stderr",
     "output_type": "stream",
     "text": [
      "GPU available: True (cuda), used: True\n",
      "TPU available: False, using: 0 TPU cores\n",
      "IPU available: False, using: 0 IPUs\n",
      "HPU available: False, using: 0 HPUs\n",
      "LOCAL_RANK: 0 - CUDA_VISIBLE_DEVICES: [0]\n",
      "\n",
      "  | Name           | Type               | Params\n",
      "------------------------------------------------------\n",
      "0 | net            | InceptionSmall     | 8.0 M \n",
      "1 | train_acc      | MulticlassAccuracy | 0     \n",
      "2 | valid_acc      | MulticlassAccuracy | 0     \n",
      "3 | valid_top5_acc | MulticlassAccuracy | 0     \n",
      "------------------------------------------------------\n",
      "8.0 M     Trainable params\n",
      "0         Non-trainable params\n",
      "8.0 M     Total params\n",
      "32.191    Total estimated model params size (MB)\n"
     ]
    },
    {
     "name": "stdout",
     "output_type": "stream",
     "text": [
      "Epoch 9: 100%|██████████| 196/196 [00:15<00:00, 12.45it/s, v_num=kz8t, valid/acc=0.820, valid/top5_acc=0.990, train/loss=0.391, train/acc=0.863]"
     ]
    },
    {
     "name": "stderr",
     "output_type": "stream",
     "text": [
      "`Trainer.fit` stopped: `max_epochs=10` reached.\n"
     ]
    },
    {
     "name": "stdout",
     "output_type": "stream",
     "text": [
      "Epoch 9: 100%|██████████| 196/196 [00:15<00:00, 12.32it/s, v_num=kz8t, valid/acc=0.820, valid/top5_acc=0.990, train/loss=0.391, train/acc=0.863]\n",
      "== Total time: 161.564 s, 2.693 min\n"
     ]
    },
    {
     "data": {
      "text/html": [
       "Waiting for W&B process to finish... <strong style=\"color:green\">(success).</strong>"
      ],
      "text/plain": [
       "<IPython.core.display.HTML object>"
      ]
     },
     "metadata": {},
     "output_type": "display_data"
    },
    {
     "data": {
      "text/html": [
       "<style>\n",
       "    table.wandb td:nth-child(1) { padding: 0 10px; text-align: left ; width: auto;} td:nth-child(2) {text-align: left ; width: 100%}\n",
       "    .wandb-row { display: flex; flex-direction: row; flex-wrap: wrap; justify-content: flex-start; width: 100% }\n",
       "    .wandb-col { display: flex; flex-direction: column; flex-basis: 100%; flex: 1; padding: 10px; }\n",
       "    </style>\n",
       "<div class=\"wandb-row\"><div class=\"wandb-col\"><h3>Run history:</h3><br/><table class=\"wandb\"><tr><td>epoch</td><td>▁▁▂▂▃▃▃▃▄▄▅▅▆▆▆▆▇▇██</td></tr><tr><td>train/acc</td><td>▁▃▄▅▆▆▇▇██</td></tr><tr><td>train/loss</td><td>█▆▅▄▃▃▂▂▁▁</td></tr><tr><td>trainer/global_step</td><td>▁▁▂▂▃▃▃▃▄▄▅▅▆▆▆▆▇▇██</td></tr><tr><td>valid/acc</td><td>▃▁▁▂▃▅▆▆▇█</td></tr><tr><td>valid/loss</td><td>▁█▅█▂█▃▅▂▅</td></tr><tr><td>valid/top5_acc</td><td>▇▁▆▆▇▇██▇█</td></tr></table><br/></div><div class=\"wandb-col\"><h3>Run summary:</h3><br/><table class=\"wandb\"><tr><td>epoch</td><td>9</td></tr><tr><td>train/acc</td><td>0.86284</td></tr><tr><td>train/loss</td><td>0.39119</td></tr><tr><td>trainer/global_step</td><td>1959</td></tr><tr><td>valid/acc</td><td>0.82022</td></tr><tr><td>valid/loss</td><td>0.78456</td></tr><tr><td>valid/top5_acc</td><td>0.98978</td></tr></table><br/></div></div>"
      ],
      "text/plain": [
       "<IPython.core.display.HTML object>"
      ]
     },
     "metadata": {},
     "output_type": "display_data"
    },
    {
     "data": {
      "text/html": [
       " View run <strong style=\"color:#cdcd00\">inception</strong> at: <a href='https://wandb.ai/stepp1/generalization/runs/2nf5kz8t' target=\"_blank\">https://wandb.ai/stepp1/generalization/runs/2nf5kz8t</a><br/>Synced 7 W&B file(s), 0 media file(s), 1 artifact file(s) and 1 other file(s)"
      ],
      "text/plain": [
       "<IPython.core.display.HTML object>"
      ]
     },
     "metadata": {},
     "output_type": "display_data"
    },
    {
     "data": {
      "text/html": [
       "Find logs at: <code>logs/wandb/run-20230530_162607-2nf5kz8t/logs</code>"
      ],
      "text/plain": [
       "<IPython.core.display.HTML object>"
      ]
     },
     "metadata": {},
     "output_type": "display_data"
    },
    {
     "name": "stdout",
     "output_type": "stream",
     "text": [
      "Corruption: shuffled_pixels\n"
     ]
    },
    {
     "data": {
      "text/html": [
       "Tracking run with wandb version 0.15.3"
      ],
      "text/plain": [
       "<IPython.core.display.HTML object>"
      ]
     },
     "metadata": {},
     "output_type": "display_data"
    },
    {
     "data": {
      "text/html": [
       "Run data is saved locally in <code>logs/wandb/run-20230530_162905-eiqycfdb</code>"
      ],
      "text/plain": [
       "<IPython.core.display.HTML object>"
      ]
     },
     "metadata": {},
     "output_type": "display_data"
    },
    {
     "data": {
      "text/html": [
       "Syncing run <strong><a href='https://wandb.ai/stepp1/generalization/runs/eiqycfdb' target=\"_blank\">inception</a></strong> to <a href='https://wandb.ai/stepp1/generalization' target=\"_blank\">Weights & Biases</a> (<a href='https://wandb.me/run' target=\"_blank\">docs</a>)<br/>"
      ],
      "text/plain": [
       "<IPython.core.display.HTML object>"
      ]
     },
     "metadata": {},
     "output_type": "display_data"
    },
    {
     "data": {
      "text/html": [
       " View project at <a href='https://wandb.ai/stepp1/generalization' target=\"_blank\">https://wandb.ai/stepp1/generalization</a>"
      ],
      "text/plain": [
       "<IPython.core.display.HTML object>"
      ]
     },
     "metadata": {},
     "output_type": "display_data"
    },
    {
     "data": {
      "text/html": [
       " View run at <a href='https://wandb.ai/stepp1/generalization/runs/eiqycfdb' target=\"_blank\">https://wandb.ai/stepp1/generalization/runs/eiqycfdb</a>"
      ],
      "text/plain": [
       "<IPython.core.display.HTML object>"
      ]
     },
     "metadata": {},
     "output_type": "display_data"
    },
    {
     "name": "stderr",
     "output_type": "stream",
     "text": [
      "GPU available: True (cuda), used: True\n",
      "TPU available: False, using: 0 TPU cores\n",
      "IPU available: False, using: 0 IPUs\n",
      "HPU available: False, using: 0 HPUs\n",
      "LOCAL_RANK: 0 - CUDA_VISIBLE_DEVICES: [0]\n",
      "\n",
      "  | Name           | Type               | Params\n",
      "------------------------------------------------------\n",
      "0 | net            | InceptionSmall     | 8.0 M \n",
      "1 | train_acc      | MulticlassAccuracy | 0     \n",
      "2 | valid_acc      | MulticlassAccuracy | 0     \n",
      "3 | valid_top5_acc | MulticlassAccuracy | 0     \n",
      "------------------------------------------------------\n",
      "8.0 M     Trainable params\n",
      "0         Non-trainable params\n",
      "8.0 M     Total params\n",
      "32.191    Total estimated model params size (MB)\n"
     ]
    },
    {
     "name": "stdout",
     "output_type": "stream",
     "text": [
      "Epoch 9: 100%|██████████| 196/196 [00:15<00:00, 12.45it/s, v_num=cfdb, valid/acc=0.827, valid/top5_acc=0.990, train/loss=0.359, train/acc=0.874]"
     ]
    },
    {
     "name": "stderr",
     "output_type": "stream",
     "text": [
      "`Trainer.fit` stopped: `max_epochs=10` reached.\n"
     ]
    },
    {
     "name": "stdout",
     "output_type": "stream",
     "text": [
      "Epoch 9: 100%|██████████| 196/196 [00:15<00:00, 12.32it/s, v_num=cfdb, valid/acc=0.827, valid/top5_acc=0.990, train/loss=0.359, train/acc=0.874]\n",
      "== Total time: 161.848 s, 2.697 min\n",
      "Model: mlp_1x512\n"
     ]
    },
    {
     "data": {
      "text/html": [
       "Waiting for W&B process to finish... <strong style=\"color:green\">(success).</strong>"
      ],
      "text/plain": [
       "<IPython.core.display.HTML object>"
      ]
     },
     "metadata": {},
     "output_type": "display_data"
    },
    {
     "data": {
      "text/html": [
       "<style>\n",
       "    table.wandb td:nth-child(1) { padding: 0 10px; text-align: left ; width: auto;} td:nth-child(2) {text-align: left ; width: 100%}\n",
       "    .wandb-row { display: flex; flex-direction: row; flex-wrap: wrap; justify-content: flex-start; width: 100% }\n",
       "    .wandb-col { display: flex; flex-direction: column; flex-basis: 100%; flex: 1; padding: 10px; }\n",
       "    </style>\n",
       "<div class=\"wandb-row\"><div class=\"wandb-col\"><h3>Run history:</h3><br/><table class=\"wandb\"><tr><td>epoch</td><td>▁▁▂▂▃▃▃▃▄▄▅▅▆▆▆▆▇▇██</td></tr><tr><td>train/acc</td><td>▁▃▄▅▆▆▇▇██</td></tr><tr><td>train/loss</td><td>█▆▅▄▄▃▂▂▁▁</td></tr><tr><td>trainer/global_step</td><td>▁▁▂▂▃▃▃▃▄▄▅▅▆▆▆▆▇▇██</td></tr><tr><td>valid/acc</td><td>▄▃▁▃▄▅▇▇██</td></tr><tr><td>valid/loss</td><td>▄▆▃▁▄▁▃▂▄█</td></tr><tr><td>valid/top5_acc</td><td>▁▃▅▆▇▇████</td></tr></table><br/></div><div class=\"wandb-col\"><h3>Run summary:</h3><br/><table class=\"wandb\"><tr><td>epoch</td><td>9</td></tr><tr><td>train/acc</td><td>0.87402</td></tr><tr><td>train/loss</td><td>0.35867</td></tr><tr><td>trainer/global_step</td><td>1959</td></tr><tr><td>valid/acc</td><td>0.82688</td></tr><tr><td>valid/loss</td><td>0.97753</td></tr><tr><td>valid/top5_acc</td><td>0.99006</td></tr></table><br/></div></div>"
      ],
      "text/plain": [
       "<IPython.core.display.HTML object>"
      ]
     },
     "metadata": {},
     "output_type": "display_data"
    },
    {
     "data": {
      "text/html": [
       " View run <strong style=\"color:#cdcd00\">inception</strong> at: <a href='https://wandb.ai/stepp1/generalization/runs/eiqycfdb' target=\"_blank\">https://wandb.ai/stepp1/generalization/runs/eiqycfdb</a><br/>Synced 7 W&B file(s), 0 media file(s), 1 artifact file(s) and 1 other file(s)"
      ],
      "text/plain": [
       "<IPython.core.display.HTML object>"
      ]
     },
     "metadata": {},
     "output_type": "display_data"
    },
    {
     "data": {
      "text/html": [
       "Find logs at: <code>logs/wandb/run-20230530_162905-eiqycfdb/logs</code>"
      ],
      "text/plain": [
       "<IPython.core.display.HTML object>"
      ]
     },
     "metadata": {},
     "output_type": "display_data"
    },
    {
     "name": "stdout",
     "output_type": "stream",
     "text": [
      "Corruption: random_labels\n"
     ]
    },
    {
     "data": {
      "text/html": [
       "Tracking run with wandb version 0.15.3"
      ],
      "text/plain": [
       "<IPython.core.display.HTML object>"
      ]
     },
     "metadata": {},
     "output_type": "display_data"
    },
    {
     "data": {
      "text/html": [
       "Run data is saved locally in <code>logs/wandb/run-20230530_163205-r9e38q39</code>"
      ],
      "text/plain": [
       "<IPython.core.display.HTML object>"
      ]
     },
     "metadata": {},
     "output_type": "display_data"
    },
    {
     "data": {
      "text/html": [
       "Syncing run <strong><a href='https://wandb.ai/stepp1/generalization/runs/r9e38q39' target=\"_blank\">mlp_1x512</a></strong> to <a href='https://wandb.ai/stepp1/generalization' target=\"_blank\">Weights & Biases</a> (<a href='https://wandb.me/run' target=\"_blank\">docs</a>)<br/>"
      ],
      "text/plain": [
       "<IPython.core.display.HTML object>"
      ]
     },
     "metadata": {},
     "output_type": "display_data"
    },
    {
     "data": {
      "text/html": [
       " View project at <a href='https://wandb.ai/stepp1/generalization' target=\"_blank\">https://wandb.ai/stepp1/generalization</a>"
      ],
      "text/plain": [
       "<IPython.core.display.HTML object>"
      ]
     },
     "metadata": {},
     "output_type": "display_data"
    },
    {
     "data": {
      "text/html": [
       " View run at <a href='https://wandb.ai/stepp1/generalization/runs/r9e38q39' target=\"_blank\">https://wandb.ai/stepp1/generalization/runs/r9e38q39</a>"
      ],
      "text/plain": [
       "<IPython.core.display.HTML object>"
      ]
     },
     "metadata": {},
     "output_type": "display_data"
    },
    {
     "name": "stderr",
     "output_type": "stream",
     "text": [
      "GPU available: True (cuda), used: True\n",
      "TPU available: False, using: 0 TPU cores\n",
      "IPU available: False, using: 0 IPUs\n",
      "HPU available: False, using: 0 HPUs\n",
      "LOCAL_RANK: 0 - CUDA_VISIBLE_DEVICES: [0]\n",
      "\n",
      "  | Name           | Type               | Params\n",
      "------------------------------------------------------\n",
      "0 | net            | MLP                | 1.2 M \n",
      "1 | train_acc      | MulticlassAccuracy | 0     \n",
      "2 | valid_acc      | MulticlassAccuracy | 0     \n",
      "3 | valid_top5_acc | MulticlassAccuracy | 0     \n",
      "------------------------------------------------------\n",
      "1.2 M     Trainable params\n",
      "0         Non-trainable params\n",
      "1.2 M     Total params\n",
      "4.837     Total estimated model params size (MB)\n"
     ]
    },
    {
     "name": "stdout",
     "output_type": "stream",
     "text": [
      "Epoch 9: 100%|██████████| 196/196 [00:13<00:00, 15.04it/s, v_num=8q39, valid/acc=0.485, valid/top5_acc=0.910, train/loss=1.210, train/acc=0.585]"
     ]
    },
    {
     "name": "stderr",
     "output_type": "stream",
     "text": [
      "`Trainer.fit` stopped: `max_epochs=10` reached.\n"
     ]
    },
    {
     "name": "stdout",
     "output_type": "stream",
     "text": [
      "Epoch 9: 100%|██████████| 196/196 [00:13<00:00, 15.01it/s, v_num=8q39, valid/acc=0.485, valid/top5_acc=0.910, train/loss=1.210, train/acc=0.585]\n",
      "== Total time: 133.496 s, 2.225 min\n"
     ]
    },
    {
     "data": {
      "text/html": [
       "Waiting for W&B process to finish... <strong style=\"color:green\">(success).</strong>"
      ],
      "text/plain": [
       "<IPython.core.display.HTML object>"
      ]
     },
     "metadata": {},
     "output_type": "display_data"
    },
    {
     "data": {
      "text/html": [
       "<style>\n",
       "    table.wandb td:nth-child(1) { padding: 0 10px; text-align: left ; width: auto;} td:nth-child(2) {text-align: left ; width: 100%}\n",
       "    .wandb-row { display: flex; flex-direction: row; flex-wrap: wrap; justify-content: flex-start; width: 100% }\n",
       "    .wandb-col { display: flex; flex-direction: column; flex-basis: 100%; flex: 1; padding: 10px; }\n",
       "    </style>\n",
       "<div class=\"wandb-row\"><div class=\"wandb-col\"><h3>Run history:</h3><br/><table class=\"wandb\"><tr><td>epoch</td><td>▁▁▂▂▃▃▃▃▄▄▅▅▆▆▆▆▇▇██</td></tr><tr><td>train/acc</td><td>▁▄▄▅▆▆▇▇██</td></tr><tr><td>train/loss</td><td>█▅▄▄▃▃▂▂▁▁</td></tr><tr><td>trainer/global_step</td><td>▁▁▂▂▃▃▃▃▄▄▅▅▆▆▆▆▇▇██</td></tr><tr><td>valid/acc</td><td>▁▅▆▆▇▇▇███</td></tr><tr><td>valid/loss</td><td>█▄▃▄▂▁▃▁▁▄</td></tr><tr><td>valid/top5_acc</td><td>▁▅▆▇▇▇████</td></tr></table><br/></div><div class=\"wandb-col\"><h3>Run summary:</h3><br/><table class=\"wandb\"><tr><td>epoch</td><td>9</td></tr><tr><td>train/acc</td><td>0.5848</td></tr><tr><td>train/loss</td><td>1.20641</td></tr><tr><td>trainer/global_step</td><td>1959</td></tr><tr><td>valid/acc</td><td>0.48466</td></tr><tr><td>valid/loss</td><td>1.50489</td></tr><tr><td>valid/top5_acc</td><td>0.91044</td></tr></table><br/></div></div>"
      ],
      "text/plain": [
       "<IPython.core.display.HTML object>"
      ]
     },
     "metadata": {},
     "output_type": "display_data"
    },
    {
     "data": {
      "text/html": [
       " View run <strong style=\"color:#cdcd00\">mlp_1x512</strong> at: <a href='https://wandb.ai/stepp1/generalization/runs/r9e38q39' target=\"_blank\">https://wandb.ai/stepp1/generalization/runs/r9e38q39</a><br/>Synced 7 W&B file(s), 0 media file(s), 1 artifact file(s) and 1 other file(s)"
      ],
      "text/plain": [
       "<IPython.core.display.HTML object>"
      ]
     },
     "metadata": {},
     "output_type": "display_data"
    },
    {
     "data": {
      "text/html": [
       "Find logs at: <code>logs/wandb/run-20230530_163205-r9e38q39/logs</code>"
      ],
      "text/plain": [
       "<IPython.core.display.HTML object>"
      ]
     },
     "metadata": {},
     "output_type": "display_data"
    },
    {
     "name": "stdout",
     "output_type": "stream",
     "text": [
      "Corruption: partial_labels\n"
     ]
    },
    {
     "data": {
      "text/html": [
       "Tracking run with wandb version 0.15.3"
      ],
      "text/plain": [
       "<IPython.core.display.HTML object>"
      ]
     },
     "metadata": {},
     "output_type": "display_data"
    },
    {
     "data": {
      "text/html": [
       "Run data is saved locally in <code>logs/wandb/run-20230530_163431-ttaftb1f</code>"
      ],
      "text/plain": [
       "<IPython.core.display.HTML object>"
      ]
     },
     "metadata": {},
     "output_type": "display_data"
    },
    {
     "data": {
      "text/html": [
       "Syncing run <strong><a href='https://wandb.ai/stepp1/generalization/runs/ttaftb1f' target=\"_blank\">mlp_1x512</a></strong> to <a href='https://wandb.ai/stepp1/generalization' target=\"_blank\">Weights & Biases</a> (<a href='https://wandb.me/run' target=\"_blank\">docs</a>)<br/>"
      ],
      "text/plain": [
       "<IPython.core.display.HTML object>"
      ]
     },
     "metadata": {},
     "output_type": "display_data"
    },
    {
     "data": {
      "text/html": [
       " View project at <a href='https://wandb.ai/stepp1/generalization' target=\"_blank\">https://wandb.ai/stepp1/generalization</a>"
      ],
      "text/plain": [
       "<IPython.core.display.HTML object>"
      ]
     },
     "metadata": {},
     "output_type": "display_data"
    },
    {
     "data": {
      "text/html": [
       " View run at <a href='https://wandb.ai/stepp1/generalization/runs/ttaftb1f' target=\"_blank\">https://wandb.ai/stepp1/generalization/runs/ttaftb1f</a>"
      ],
      "text/plain": [
       "<IPython.core.display.HTML object>"
      ]
     },
     "metadata": {},
     "output_type": "display_data"
    },
    {
     "name": "stderr",
     "output_type": "stream",
     "text": [
      "GPU available: True (cuda), used: True\n",
      "TPU available: False, using: 0 TPU cores\n",
      "IPU available: False, using: 0 IPUs\n",
      "HPU available: False, using: 0 HPUs\n",
      "LOCAL_RANK: 0 - CUDA_VISIBLE_DEVICES: [0]\n",
      "\n",
      "  | Name           | Type               | Params\n",
      "------------------------------------------------------\n",
      "0 | net            | MLP                | 1.2 M \n",
      "1 | train_acc      | MulticlassAccuracy | 0     \n",
      "2 | valid_acc      | MulticlassAccuracy | 0     \n",
      "3 | valid_top5_acc | MulticlassAccuracy | 0     \n",
      "------------------------------------------------------\n",
      "1.2 M     Trainable params\n",
      "0         Non-trainable params\n",
      "1.2 M     Total params\n",
      "4.837     Total estimated model params size (MB)\n"
     ]
    },
    {
     "name": "stdout",
     "output_type": "stream",
     "text": [
      "Epoch 9: 100%|██████████| 196/196 [00:13<00:00, 15.04it/s, v_num=tb1f, valid/acc=0.514, valid/top5_acc=0.927, train/loss=1.000, train/acc=0.659]"
     ]
    },
    {
     "name": "stderr",
     "output_type": "stream",
     "text": [
      "`Trainer.fit` stopped: `max_epochs=10` reached.\n"
     ]
    },
    {
     "name": "stdout",
     "output_type": "stream",
     "text": [
      "Epoch 9: 100%|██████████| 196/196 [00:13<00:00, 15.01it/s, v_num=tb1f, valid/acc=0.514, valid/top5_acc=0.927, train/loss=1.000, train/acc=0.659]\n",
      "== Total time: 133.381 s, 2.223 min\n"
     ]
    },
    {
     "data": {
      "text/html": [
       "Waiting for W&B process to finish... <strong style=\"color:green\">(success).</strong>"
      ],
      "text/plain": [
       "<IPython.core.display.HTML object>"
      ]
     },
     "metadata": {},
     "output_type": "display_data"
    },
    {
     "data": {
      "text/html": [
       "<style>\n",
       "    table.wandb td:nth-child(1) { padding: 0 10px; text-align: left ; width: auto;} td:nth-child(2) {text-align: left ; width: 100%}\n",
       "    .wandb-row { display: flex; flex-direction: row; flex-wrap: wrap; justify-content: flex-start; width: 100% }\n",
       "    .wandb-col { display: flex; flex-direction: column; flex-basis: 100%; flex: 1; padding: 10px; }\n",
       "    </style>\n",
       "<div class=\"wandb-row\"><div class=\"wandb-col\"><h3>Run history:</h3><br/><table class=\"wandb\"><tr><td>epoch</td><td>▁▁▂▂▃▃▃▃▄▄▅▅▆▆▆▆▇▇██</td></tr><tr><td>train/acc</td><td>▁▃▄▄▅▆▆▇▇█</td></tr><tr><td>train/loss</td><td>█▆▅▄▄▃▃▂▂▁</td></tr><tr><td>trainer/global_step</td><td>▁▁▂▂▃▃▃▃▄▄▅▅▆▆▆▆▇▇██</td></tr><tr><td>valid/acc</td><td>▁▂▃▄▅▅▇▇▇█</td></tr><tr><td>valid/loss</td><td>▄▁▅▅▃▄▅▆▇█</td></tr><tr><td>valid/top5_acc</td><td>▁▄▆▅▆█▇███</td></tr></table><br/></div><div class=\"wandb-col\"><h3>Run summary:</h3><br/><table class=\"wandb\"><tr><td>epoch</td><td>9</td></tr><tr><td>train/acc</td><td>0.65856</td></tr><tr><td>train/loss</td><td>1.00274</td></tr><tr><td>trainer/global_step</td><td>1959</td></tr><tr><td>valid/acc</td><td>0.51445</td></tr><tr><td>valid/loss</td><td>1.51795</td></tr><tr><td>valid/top5_acc</td><td>0.92685</td></tr></table><br/></div></div>"
      ],
      "text/plain": [
       "<IPython.core.display.HTML object>"
      ]
     },
     "metadata": {},
     "output_type": "display_data"
    },
    {
     "data": {
      "text/html": [
       " View run <strong style=\"color:#cdcd00\">mlp_1x512</strong> at: <a href='https://wandb.ai/stepp1/generalization/runs/ttaftb1f' target=\"_blank\">https://wandb.ai/stepp1/generalization/runs/ttaftb1f</a><br/>Synced 7 W&B file(s), 0 media file(s), 1 artifact file(s) and 1 other file(s)"
      ],
      "text/plain": [
       "<IPython.core.display.HTML object>"
      ]
     },
     "metadata": {},
     "output_type": "display_data"
    },
    {
     "data": {
      "text/html": [
       "Find logs at: <code>logs/wandb/run-20230530_163431-ttaftb1f/logs</code>"
      ],
      "text/plain": [
       "<IPython.core.display.HTML object>"
      ]
     },
     "metadata": {},
     "output_type": "display_data"
    },
    {
     "name": "stdout",
     "output_type": "stream",
     "text": [
      "Corruption: random_pixels\n"
     ]
    },
    {
     "data": {
      "text/html": [
       "Tracking run with wandb version 0.15.3"
      ],
      "text/plain": [
       "<IPython.core.display.HTML object>"
      ]
     },
     "metadata": {},
     "output_type": "display_data"
    },
    {
     "data": {
      "text/html": [
       "Run data is saved locally in <code>logs/wandb/run-20230530_163658-i45xm7kk</code>"
      ],
      "text/plain": [
       "<IPython.core.display.HTML object>"
      ]
     },
     "metadata": {},
     "output_type": "display_data"
    },
    {
     "data": {
      "text/html": [
       "Syncing run <strong><a href='https://wandb.ai/stepp1/generalization/runs/i45xm7kk' target=\"_blank\">mlp_1x512</a></strong> to <a href='https://wandb.ai/stepp1/generalization' target=\"_blank\">Weights & Biases</a> (<a href='https://wandb.me/run' target=\"_blank\">docs</a>)<br/>"
      ],
      "text/plain": [
       "<IPython.core.display.HTML object>"
      ]
     },
     "metadata": {},
     "output_type": "display_data"
    },
    {
     "data": {
      "text/html": [
       " View project at <a href='https://wandb.ai/stepp1/generalization' target=\"_blank\">https://wandb.ai/stepp1/generalization</a>"
      ],
      "text/plain": [
       "<IPython.core.display.HTML object>"
      ]
     },
     "metadata": {},
     "output_type": "display_data"
    },
    {
     "data": {
      "text/html": [
       " View run at <a href='https://wandb.ai/stepp1/generalization/runs/i45xm7kk' target=\"_blank\">https://wandb.ai/stepp1/generalization/runs/i45xm7kk</a>"
      ],
      "text/plain": [
       "<IPython.core.display.HTML object>"
      ]
     },
     "metadata": {},
     "output_type": "display_data"
    },
    {
     "name": "stderr",
     "output_type": "stream",
     "text": [
      "GPU available: True (cuda), used: True\n",
      "TPU available: False, using: 0 TPU cores\n",
      "IPU available: False, using: 0 IPUs\n",
      "HPU available: False, using: 0 HPUs\n",
      "LOCAL_RANK: 0 - CUDA_VISIBLE_DEVICES: [0]\n",
      "\n",
      "  | Name           | Type               | Params\n",
      "------------------------------------------------------\n",
      "0 | net            | MLP                | 1.2 M \n",
      "1 | train_acc      | MulticlassAccuracy | 0     \n",
      "2 | valid_acc      | MulticlassAccuracy | 0     \n",
      "3 | valid_top5_acc | MulticlassAccuracy | 0     \n",
      "------------------------------------------------------\n",
      "1.2 M     Trainable params\n",
      "0         Non-trainable params\n",
      "1.2 M     Total params\n",
      "4.837     Total estimated model params size (MB)\n"
     ]
    },
    {
     "name": "stdout",
     "output_type": "stream",
     "text": [
      "Epoch 9: 100%|██████████| 196/196 [00:12<00:00, 15.09it/s, v_num=m7kk, valid/acc=0.518, valid/top5_acc=0.928, train/loss=0.884, train/acc=0.704]"
     ]
    },
    {
     "name": "stderr",
     "output_type": "stream",
     "text": [
      "`Trainer.fit` stopped: `max_epochs=10` reached.\n"
     ]
    },
    {
     "name": "stdout",
     "output_type": "stream",
     "text": [
      "Epoch 9: 100%|██████████| 196/196 [00:13<00:00, 15.06it/s, v_num=m7kk, valid/acc=0.518, valid/top5_acc=0.928, train/loss=0.884, train/acc=0.704]\n",
      "== Total time: 133.096 s, 2.218 min\n"
     ]
    },
    {
     "data": {
      "text/html": [
       "Waiting for W&B process to finish... <strong style=\"color:green\">(success).</strong>"
      ],
      "text/plain": [
       "<IPython.core.display.HTML object>"
      ]
     },
     "metadata": {},
     "output_type": "display_data"
    },
    {
     "data": {
      "text/html": [
       "<style>\n",
       "    table.wandb td:nth-child(1) { padding: 0 10px; text-align: left ; width: auto;} td:nth-child(2) {text-align: left ; width: 100%}\n",
       "    .wandb-row { display: flex; flex-direction: row; flex-wrap: wrap; justify-content: flex-start; width: 100% }\n",
       "    .wandb-col { display: flex; flex-direction: column; flex-basis: 100%; flex: 1; padding: 10px; }\n",
       "    </style>\n",
       "<div class=\"wandb-row\"><div class=\"wandb-col\"><h3>Run history:</h3><br/><table class=\"wandb\"><tr><td>epoch</td><td>▁▁▂▂▃▃▃▃▄▄▅▅▆▆▆▆▇▇██</td></tr><tr><td>train/acc</td><td>▁▃▄▄▅▆▆▇██</td></tr><tr><td>train/loss</td><td>█▅▄▄▄▃▂▂▁▁</td></tr><tr><td>trainer/global_step</td><td>▁▁▂▂▃▃▃▃▄▄▅▅▆▆▆▆▇▇██</td></tr><tr><td>valid/acc</td><td>█▆▇▅▄▂▁▁▁▂</td></tr><tr><td>valid/loss</td><td>▁▁▃▄▄█▅▇▇▇</td></tr><tr><td>valid/top5_acc</td><td>█▅▄▃▃▂▂▂▁▁</td></tr></table><br/></div><div class=\"wandb-col\"><h3>Run summary:</h3><br/><table class=\"wandb\"><tr><td>epoch</td><td>9</td></tr><tr><td>train/acc</td><td>0.70386</td></tr><tr><td>train/loss</td><td>0.88427</td></tr><tr><td>trainer/global_step</td><td>1959</td></tr><tr><td>valid/acc</td><td>0.51771</td></tr><tr><td>valid/loss</td><td>1.63919</td></tr><tr><td>valid/top5_acc</td><td>0.92764</td></tr></table><br/></div></div>"
      ],
      "text/plain": [
       "<IPython.core.display.HTML object>"
      ]
     },
     "metadata": {},
     "output_type": "display_data"
    },
    {
     "data": {
      "text/html": [
       " View run <strong style=\"color:#cdcd00\">mlp_1x512</strong> at: <a href='https://wandb.ai/stepp1/generalization/runs/i45xm7kk' target=\"_blank\">https://wandb.ai/stepp1/generalization/runs/i45xm7kk</a><br/>Synced 7 W&B file(s), 0 media file(s), 1 artifact file(s) and 1 other file(s)"
      ],
      "text/plain": [
       "<IPython.core.display.HTML object>"
      ]
     },
     "metadata": {},
     "output_type": "display_data"
    },
    {
     "data": {
      "text/html": [
       "Find logs at: <code>logs/wandb/run-20230530_163658-i45xm7kk/logs</code>"
      ],
      "text/plain": [
       "<IPython.core.display.HTML object>"
      ]
     },
     "metadata": {},
     "output_type": "display_data"
    },
    {
     "name": "stdout",
     "output_type": "stream",
     "text": [
      "Corruption: shuffled_pixels\n"
     ]
    },
    {
     "data": {
      "text/html": [
       "Tracking run with wandb version 0.15.3"
      ],
      "text/plain": [
       "<IPython.core.display.HTML object>"
      ]
     },
     "metadata": {},
     "output_type": "display_data"
    },
    {
     "data": {
      "text/html": [
       "Run data is saved locally in <code>logs/wandb/run-20230530_163924-rke499d1</code>"
      ],
      "text/plain": [
       "<IPython.core.display.HTML object>"
      ]
     },
     "metadata": {},
     "output_type": "display_data"
    },
    {
     "data": {
      "text/html": [
       "Syncing run <strong><a href='https://wandb.ai/stepp1/generalization/runs/rke499d1' target=\"_blank\">mlp_1x512</a></strong> to <a href='https://wandb.ai/stepp1/generalization' target=\"_blank\">Weights & Biases</a> (<a href='https://wandb.me/run' target=\"_blank\">docs</a>)<br/>"
      ],
      "text/plain": [
       "<IPython.core.display.HTML object>"
      ]
     },
     "metadata": {},
     "output_type": "display_data"
    },
    {
     "data": {
      "text/html": [
       " View project at <a href='https://wandb.ai/stepp1/generalization' target=\"_blank\">https://wandb.ai/stepp1/generalization</a>"
      ],
      "text/plain": [
       "<IPython.core.display.HTML object>"
      ]
     },
     "metadata": {},
     "output_type": "display_data"
    },
    {
     "data": {
      "text/html": [
       " View run at <a href='https://wandb.ai/stepp1/generalization/runs/rke499d1' target=\"_blank\">https://wandb.ai/stepp1/generalization/runs/rke499d1</a>"
      ],
      "text/plain": [
       "<IPython.core.display.HTML object>"
      ]
     },
     "metadata": {},
     "output_type": "display_data"
    },
    {
     "name": "stderr",
     "output_type": "stream",
     "text": [
      "GPU available: True (cuda), used: True\n",
      "TPU available: False, using: 0 TPU cores\n",
      "IPU available: False, using: 0 IPUs\n",
      "HPU available: False, using: 0 HPUs\n",
      "LOCAL_RANK: 0 - CUDA_VISIBLE_DEVICES: [0]\n",
      "\n",
      "  | Name           | Type               | Params\n",
      "------------------------------------------------------\n",
      "0 | net            | MLP                | 1.2 M \n",
      "1 | train_acc      | MulticlassAccuracy | 0     \n",
      "2 | valid_acc      | MulticlassAccuracy | 0     \n",
      "3 | valid_top5_acc | MulticlassAccuracy | 0     \n",
      "------------------------------------------------------\n",
      "1.2 M     Trainable params\n",
      "0         Non-trainable params\n",
      "1.2 M     Total params\n",
      "4.837     Total estimated model params size (MB)\n"
     ]
    },
    {
     "name": "stdout",
     "output_type": "stream",
     "text": [
      "Epoch 9: 100%|██████████| 196/196 [00:13<00:00, 15.05it/s, v_num=99d1, valid/acc=0.522, valid/top5_acc=0.928, train/loss=0.802, train/acc=0.737]"
     ]
    },
    {
     "name": "stderr",
     "output_type": "stream",
     "text": [
      "`Trainer.fit` stopped: `max_epochs=10` reached.\n"
     ]
    },
    {
     "name": "stdout",
     "output_type": "stream",
     "text": [
      "Epoch 9: 100%|██████████| 196/196 [00:13<00:00, 15.02it/s, v_num=99d1, valid/acc=0.522, valid/top5_acc=0.928, train/loss=0.802, train/acc=0.737]\n",
      "== Total time: 133.456 s, 2.224 min\n",
      "Model: mlp_3x512\n"
     ]
    },
    {
     "data": {
      "text/html": [
       "Waiting for W&B process to finish... <strong style=\"color:green\">(success).</strong>"
      ],
      "text/plain": [
       "<IPython.core.display.HTML object>"
      ]
     },
     "metadata": {},
     "output_type": "display_data"
    },
    {
     "data": {
      "text/html": [
       "<style>\n",
       "    table.wandb td:nth-child(1) { padding: 0 10px; text-align: left ; width: auto;} td:nth-child(2) {text-align: left ; width: 100%}\n",
       "    .wandb-row { display: flex; flex-direction: row; flex-wrap: wrap; justify-content: flex-start; width: 100% }\n",
       "    .wandb-col { display: flex; flex-direction: column; flex-basis: 100%; flex: 1; padding: 10px; }\n",
       "    </style>\n",
       "<div class=\"wandb-row\"><div class=\"wandb-col\"><h3>Run history:</h3><br/><table class=\"wandb\"><tr><td>epoch</td><td>▁▁▂▂▃▃▃▃▄▄▅▅▆▆▆▆▇▇██</td></tr><tr><td>train/acc</td><td>▁▃▄▅▆▆▇▇██</td></tr><tr><td>train/loss</td><td>█▅▄▄▃▂▂▂▁▁</td></tr><tr><td>trainer/global_step</td><td>▁▁▂▂▃▃▃▃▄▄▅▅▆▆▆▆▇▇██</td></tr><tr><td>valid/acc</td><td>▁▁▇███▆▆▆▅</td></tr><tr><td>valid/loss</td><td>▃▁▃▂▃▄▇▆▇█</td></tr><tr><td>valid/top5_acc</td><td>█▅▄▅▄▃▂▁▁▁</td></tr></table><br/></div><div class=\"wandb-col\"><h3>Run summary:</h3><br/><table class=\"wandb\"><tr><td>epoch</td><td>9</td></tr><tr><td>train/acc</td><td>0.73652</td></tr><tr><td>train/loss</td><td>0.80164</td></tr><tr><td>trainer/global_step</td><td>1959</td></tr><tr><td>valid/acc</td><td>0.52229</td></tr><tr><td>valid/loss</td><td>1.75054</td></tr><tr><td>valid/top5_acc</td><td>0.92786</td></tr></table><br/></div></div>"
      ],
      "text/plain": [
       "<IPython.core.display.HTML object>"
      ]
     },
     "metadata": {},
     "output_type": "display_data"
    },
    {
     "data": {
      "text/html": [
       " View run <strong style=\"color:#cdcd00\">mlp_1x512</strong> at: <a href='https://wandb.ai/stepp1/generalization/runs/rke499d1' target=\"_blank\">https://wandb.ai/stepp1/generalization/runs/rke499d1</a><br/>Synced 7 W&B file(s), 0 media file(s), 1 artifact file(s) and 1 other file(s)"
      ],
      "text/plain": [
       "<IPython.core.display.HTML object>"
      ]
     },
     "metadata": {},
     "output_type": "display_data"
    },
    {
     "data": {
      "text/html": [
       "Find logs at: <code>logs/wandb/run-20230530_163924-rke499d1/logs</code>"
      ],
      "text/plain": [
       "<IPython.core.display.HTML object>"
      ]
     },
     "metadata": {},
     "output_type": "display_data"
    },
    {
     "name": "stdout",
     "output_type": "stream",
     "text": [
      "Corruption: random_labels\n"
     ]
    },
    {
     "data": {
      "text/html": [
       "Tracking run with wandb version 0.15.3"
      ],
      "text/plain": [
       "<IPython.core.display.HTML object>"
      ]
     },
     "metadata": {},
     "output_type": "display_data"
    },
    {
     "data": {
      "text/html": [
       "Run data is saved locally in <code>logs/wandb/run-20230530_164150-aywga3hw</code>"
      ],
      "text/plain": [
       "<IPython.core.display.HTML object>"
      ]
     },
     "metadata": {},
     "output_type": "display_data"
    },
    {
     "data": {
      "text/html": [
       "Syncing run <strong><a href='https://wandb.ai/stepp1/generalization/runs/aywga3hw' target=\"_blank\">mlp_3x512</a></strong> to <a href='https://wandb.ai/stepp1/generalization' target=\"_blank\">Weights & Biases</a> (<a href='https://wandb.me/run' target=\"_blank\">docs</a>)<br/>"
      ],
      "text/plain": [
       "<IPython.core.display.HTML object>"
      ]
     },
     "metadata": {},
     "output_type": "display_data"
    },
    {
     "data": {
      "text/html": [
       " View project at <a href='https://wandb.ai/stepp1/generalization' target=\"_blank\">https://wandb.ai/stepp1/generalization</a>"
      ],
      "text/plain": [
       "<IPython.core.display.HTML object>"
      ]
     },
     "metadata": {},
     "output_type": "display_data"
    },
    {
     "data": {
      "text/html": [
       " View run at <a href='https://wandb.ai/stepp1/generalization/runs/aywga3hw' target=\"_blank\">https://wandb.ai/stepp1/generalization/runs/aywga3hw</a>"
      ],
      "text/plain": [
       "<IPython.core.display.HTML object>"
      ]
     },
     "metadata": {},
     "output_type": "display_data"
    },
    {
     "name": "stderr",
     "output_type": "stream",
     "text": [
      "GPU available: True (cuda), used: True\n",
      "TPU available: False, using: 0 TPU cores\n",
      "IPU available: False, using: 0 IPUs\n",
      "HPU available: False, using: 0 HPUs\n",
      "LOCAL_RANK: 0 - CUDA_VISIBLE_DEVICES: [0]\n",
      "\n",
      "  | Name           | Type               | Params\n",
      "------------------------------------------------------\n",
      "0 | net            | MLP                | 1.7 M \n",
      "1 | train_acc      | MulticlassAccuracy | 0     \n",
      "2 | valid_acc      | MulticlassAccuracy | 0     \n",
      "3 | valid_top5_acc | MulticlassAccuracy | 0     \n",
      "------------------------------------------------------\n",
      "1.7 M     Trainable params\n",
      "0         Non-trainable params\n",
      "1.7 M     Total params\n",
      "6.935     Total estimated model params size (MB)\n"
     ]
    },
    {
     "name": "stdout",
     "output_type": "stream",
     "text": [
      "Epoch 9: 100%|██████████| 196/196 [00:13<00:00, 15.02it/s, v_num=a3hw, valid/acc=0.499, valid/top5_acc=0.917, train/loss=0.991, train/acc=0.645]"
     ]
    },
    {
     "name": "stderr",
     "output_type": "stream",
     "text": [
      "`Trainer.fit` stopped: `max_epochs=10` reached.\n"
     ]
    },
    {
     "name": "stdout",
     "output_type": "stream",
     "text": [
      "Epoch 9: 100%|██████████| 196/196 [00:13<00:00, 14.98it/s, v_num=a3hw, valid/acc=0.499, valid/top5_acc=0.917, train/loss=0.991, train/acc=0.645]\n",
      "== Total time: 133.485 s, 2.225 min\n"
     ]
    },
    {
     "data": {
      "text/html": [
       "Waiting for W&B process to finish... <strong style=\"color:green\">(success).</strong>"
      ],
      "text/plain": [
       "<IPython.core.display.HTML object>"
      ]
     },
     "metadata": {},
     "output_type": "display_data"
    },
    {
     "data": {
      "text/html": [
       "<style>\n",
       "    table.wandb td:nth-child(1) { padding: 0 10px; text-align: left ; width: auto;} td:nth-child(2) {text-align: left ; width: 100%}\n",
       "    .wandb-row { display: flex; flex-direction: row; flex-wrap: wrap; justify-content: flex-start; width: 100% }\n",
       "    .wandb-col { display: flex; flex-direction: column; flex-basis: 100%; flex: 1; padding: 10px; }\n",
       "    </style>\n",
       "<div class=\"wandb-row\"><div class=\"wandb-col\"><h3>Run history:</h3><br/><table class=\"wandb\"><tr><td>epoch</td><td>▁▁▂▂▃▃▃▃▄▄▅▅▆▆▆▆▇▇██</td></tr><tr><td>train/acc</td><td>▁▃▄▅▅▆▆▇██</td></tr><tr><td>train/loss</td><td>█▆▅▄▄▃▃▂▂▁</td></tr><tr><td>trainer/global_step</td><td>▁▁▂▂▃▃▃▃▄▄▅▅▆▆▆▆▇▇██</td></tr><tr><td>valid/acc</td><td>▁▄▅▆▇▇▇███</td></tr><tr><td>valid/loss</td><td>█▆▃▂▁▁▂▁▃▄</td></tr><tr><td>valid/top5_acc</td><td>▁▅▆▇▇▇████</td></tr></table><br/></div><div class=\"wandb-col\"><h3>Run summary:</h3><br/><table class=\"wandb\"><tr><td>epoch</td><td>9</td></tr><tr><td>train/acc</td><td>0.64518</td></tr><tr><td>train/loss</td><td>0.99088</td></tr><tr><td>trainer/global_step</td><td>1959</td></tr><tr><td>valid/acc</td><td>0.499</td></tr><tr><td>valid/loss</td><td>1.44431</td></tr><tr><td>valid/top5_acc</td><td>0.91665</td></tr></table><br/></div></div>"
      ],
      "text/plain": [
       "<IPython.core.display.HTML object>"
      ]
     },
     "metadata": {},
     "output_type": "display_data"
    },
    {
     "data": {
      "text/html": [
       " View run <strong style=\"color:#cdcd00\">mlp_3x512</strong> at: <a href='https://wandb.ai/stepp1/generalization/runs/aywga3hw' target=\"_blank\">https://wandb.ai/stepp1/generalization/runs/aywga3hw</a><br/>Synced 7 W&B file(s), 0 media file(s), 1 artifact file(s) and 1 other file(s)"
      ],
      "text/plain": [
       "<IPython.core.display.HTML object>"
      ]
     },
     "metadata": {},
     "output_type": "display_data"
    },
    {
     "data": {
      "text/html": [
       "Find logs at: <code>logs/wandb/run-20230530_164150-aywga3hw/logs</code>"
      ],
      "text/plain": [
       "<IPython.core.display.HTML object>"
      ]
     },
     "metadata": {},
     "output_type": "display_data"
    },
    {
     "name": "stdout",
     "output_type": "stream",
     "text": [
      "Corruption: partial_labels\n"
     ]
    },
    {
     "data": {
      "text/html": [
       "Tracking run with wandb version 0.15.3"
      ],
      "text/plain": [
       "<IPython.core.display.HTML object>"
      ]
     },
     "metadata": {},
     "output_type": "display_data"
    },
    {
     "data": {
      "text/html": [
       "Run data is saved locally in <code>logs/wandb/run-20230530_164417-f7pb0g2q</code>"
      ],
      "text/plain": [
       "<IPython.core.display.HTML object>"
      ]
     },
     "metadata": {},
     "output_type": "display_data"
    },
    {
     "data": {
      "text/html": [
       "Syncing run <strong><a href='https://wandb.ai/stepp1/generalization/runs/f7pb0g2q' target=\"_blank\">mlp_3x512</a></strong> to <a href='https://wandb.ai/stepp1/generalization' target=\"_blank\">Weights & Biases</a> (<a href='https://wandb.me/run' target=\"_blank\">docs</a>)<br/>"
      ],
      "text/plain": [
       "<IPython.core.display.HTML object>"
      ]
     },
     "metadata": {},
     "output_type": "display_data"
    },
    {
     "data": {
      "text/html": [
       " View project at <a href='https://wandb.ai/stepp1/generalization' target=\"_blank\">https://wandb.ai/stepp1/generalization</a>"
      ],
      "text/plain": [
       "<IPython.core.display.HTML object>"
      ]
     },
     "metadata": {},
     "output_type": "display_data"
    },
    {
     "data": {
      "text/html": [
       " View run at <a href='https://wandb.ai/stepp1/generalization/runs/f7pb0g2q' target=\"_blank\">https://wandb.ai/stepp1/generalization/runs/f7pb0g2q</a>"
      ],
      "text/plain": [
       "<IPython.core.display.HTML object>"
      ]
     },
     "metadata": {},
     "output_type": "display_data"
    },
    {
     "name": "stderr",
     "output_type": "stream",
     "text": [
      "GPU available: True (cuda), used: True\n",
      "TPU available: False, using: 0 TPU cores\n",
      "IPU available: False, using: 0 IPUs\n",
      "HPU available: False, using: 0 HPUs\n",
      "LOCAL_RANK: 0 - CUDA_VISIBLE_DEVICES: [0]\n",
      "\n",
      "  | Name           | Type               | Params\n",
      "------------------------------------------------------\n",
      "0 | net            | MLP                | 1.7 M \n",
      "1 | train_acc      | MulticlassAccuracy | 0     \n",
      "2 | valid_acc      | MulticlassAccuracy | 0     \n",
      "3 | valid_top5_acc | MulticlassAccuracy | 0     \n",
      "------------------------------------------------------\n",
      "1.7 M     Trainable params\n",
      "0         Non-trainable params\n",
      "1.7 M     Total params\n",
      "6.935     Total estimated model params size (MB)\n"
     ]
    },
    {
     "name": "stdout",
     "output_type": "stream",
     "text": [
      "Epoch 9: 100%|██████████| 196/196 [00:13<00:00, 15.03it/s, v_num=0g2q, valid/acc=0.527, valid/top5_acc=0.928, train/loss=0.635, train/acc=0.776]"
     ]
    },
    {
     "name": "stderr",
     "output_type": "stream",
     "text": [
      "`Trainer.fit` stopped: `max_epochs=10` reached.\n"
     ]
    },
    {
     "name": "stdout",
     "output_type": "stream",
     "text": [
      "Epoch 9: 100%|██████████| 196/196 [00:13<00:00, 14.99it/s, v_num=0g2q, valid/acc=0.527, valid/top5_acc=0.928, train/loss=0.635, train/acc=0.776]\n",
      "== Total time: 133.723 s, 2.229 min\n"
     ]
    },
    {
     "data": {
      "text/html": [
       "Waiting for W&B process to finish... <strong style=\"color:green\">(success).</strong>"
      ],
      "text/plain": [
       "<IPython.core.display.HTML object>"
      ]
     },
     "metadata": {},
     "output_type": "display_data"
    },
    {
     "data": {
      "text/html": [
       "<style>\n",
       "    table.wandb td:nth-child(1) { padding: 0 10px; text-align: left ; width: auto;} td:nth-child(2) {text-align: left ; width: 100%}\n",
       "    .wandb-row { display: flex; flex-direction: row; flex-wrap: wrap; justify-content: flex-start; width: 100% }\n",
       "    .wandb-col { display: flex; flex-direction: column; flex-basis: 100%; flex: 1; padding: 10px; }\n",
       "    </style>\n",
       "<div class=\"wandb-row\"><div class=\"wandb-col\"><h3>Run history:</h3><br/><table class=\"wandb\"><tr><td>epoch</td><td>▁▁▂▂▃▃▃▃▄▄▅▅▆▆▆▆▇▇██</td></tr><tr><td>train/acc</td><td>▁▃▄▄▅▆▇▇██</td></tr><tr><td>train/loss</td><td>█▆▅▅▄▃▂▂▁▁</td></tr><tr><td>trainer/global_step</td><td>▁▁▂▂▃▃▃▃▄▄▅▅▆▆▆▆▇▇██</td></tr><tr><td>valid/acc</td><td>█▆▇▇▄▃▂▃▁▁</td></tr><tr><td>valid/loss</td><td>▁▂▃▃▄▄▅▆██</td></tr><tr><td>valid/top5_acc</td><td>█▄▃▃▃▂▂▂▁▁</td></tr></table><br/></div><div class=\"wandb-col\"><h3>Run summary:</h3><br/><table class=\"wandb\"><tr><td>epoch</td><td>9</td></tr><tr><td>train/acc</td><td>0.77646</td></tr><tr><td>train/loss</td><td>0.63547</td></tr><tr><td>trainer/global_step</td><td>1959</td></tr><tr><td>valid/acc</td><td>0.52712</td></tr><tr><td>valid/loss</td><td>2.09274</td></tr><tr><td>valid/top5_acc</td><td>0.9275</td></tr></table><br/></div></div>"
      ],
      "text/plain": [
       "<IPython.core.display.HTML object>"
      ]
     },
     "metadata": {},
     "output_type": "display_data"
    },
    {
     "data": {
      "text/html": [
       " View run <strong style=\"color:#cdcd00\">mlp_3x512</strong> at: <a href='https://wandb.ai/stepp1/generalization/runs/f7pb0g2q' target=\"_blank\">https://wandb.ai/stepp1/generalization/runs/f7pb0g2q</a><br/>Synced 7 W&B file(s), 0 media file(s), 1 artifact file(s) and 1 other file(s)"
      ],
      "text/plain": [
       "<IPython.core.display.HTML object>"
      ]
     },
     "metadata": {},
     "output_type": "display_data"
    },
    {
     "data": {
      "text/html": [
       "Find logs at: <code>logs/wandb/run-20230530_164417-f7pb0g2q/logs</code>"
      ],
      "text/plain": [
       "<IPython.core.display.HTML object>"
      ]
     },
     "metadata": {},
     "output_type": "display_data"
    },
    {
     "name": "stdout",
     "output_type": "stream",
     "text": [
      "Corruption: random_pixels\n"
     ]
    },
    {
     "data": {
      "text/html": [
       "Tracking run with wandb version 0.15.3"
      ],
      "text/plain": [
       "<IPython.core.display.HTML object>"
      ]
     },
     "metadata": {},
     "output_type": "display_data"
    },
    {
     "data": {
      "text/html": [
       "Run data is saved locally in <code>logs/wandb/run-20230530_164646-pjciqgxr</code>"
      ],
      "text/plain": [
       "<IPython.core.display.HTML object>"
      ]
     },
     "metadata": {},
     "output_type": "display_data"
    },
    {
     "data": {
      "text/html": [
       "Syncing run <strong><a href='https://wandb.ai/stepp1/generalization/runs/pjciqgxr' target=\"_blank\">mlp_3x512</a></strong> to <a href='https://wandb.ai/stepp1/generalization' target=\"_blank\">Weights & Biases</a> (<a href='https://wandb.me/run' target=\"_blank\">docs</a>)<br/>"
      ],
      "text/plain": [
       "<IPython.core.display.HTML object>"
      ]
     },
     "metadata": {},
     "output_type": "display_data"
    },
    {
     "data": {
      "text/html": [
       " View project at <a href='https://wandb.ai/stepp1/generalization' target=\"_blank\">https://wandb.ai/stepp1/generalization</a>"
      ],
      "text/plain": [
       "<IPython.core.display.HTML object>"
      ]
     },
     "metadata": {},
     "output_type": "display_data"
    },
    {
     "data": {
      "text/html": [
       " View run at <a href='https://wandb.ai/stepp1/generalization/runs/pjciqgxr' target=\"_blank\">https://wandb.ai/stepp1/generalization/runs/pjciqgxr</a>"
      ],
      "text/plain": [
       "<IPython.core.display.HTML object>"
      ]
     },
     "metadata": {},
     "output_type": "display_data"
    },
    {
     "name": "stderr",
     "output_type": "stream",
     "text": [
      "GPU available: True (cuda), used: True\n",
      "TPU available: False, using: 0 TPU cores\n",
      "IPU available: False, using: 0 IPUs\n",
      "HPU available: False, using: 0 HPUs\n",
      "LOCAL_RANK: 0 - CUDA_VISIBLE_DEVICES: [0]\n",
      "\n",
      "  | Name           | Type               | Params\n",
      "------------------------------------------------------\n",
      "0 | net            | MLP                | 1.7 M \n",
      "1 | train_acc      | MulticlassAccuracy | 0     \n",
      "2 | valid_acc      | MulticlassAccuracy | 0     \n",
      "3 | valid_top5_acc | MulticlassAccuracy | 0     \n",
      "------------------------------------------------------\n",
      "1.7 M     Trainable params\n",
      "0         Non-trainable params\n",
      "1.7 M     Total params\n",
      "6.935     Total estimated model params size (MB)\n"
     ]
    },
    {
     "name": "stdout",
     "output_type": "stream",
     "text": [
      "Epoch 9: 100%|██████████| 196/196 [00:13<00:00, 15.01it/s, v_num=qgxr, valid/acc=0.525, valid/top5_acc=0.923, train/loss=0.526, train/acc=0.815]"
     ]
    },
    {
     "name": "stderr",
     "output_type": "stream",
     "text": [
      "`Trainer.fit` stopped: `max_epochs=10` reached.\n"
     ]
    },
    {
     "name": "stdout",
     "output_type": "stream",
     "text": [
      "Epoch 9: 100%|██████████| 196/196 [00:13<00:00, 14.96it/s, v_num=qgxr, valid/acc=0.525, valid/top5_acc=0.923, train/loss=0.526, train/acc=0.815]\n",
      "== Total time: 133.691 s, 2.228 min\n"
     ]
    },
    {
     "data": {
      "text/html": [
       "Waiting for W&B process to finish... <strong style=\"color:green\">(success).</strong>"
      ],
      "text/plain": [
       "<IPython.core.display.HTML object>"
      ]
     },
     "metadata": {},
     "output_type": "display_data"
    },
    {
     "data": {
      "text/html": [
       "<style>\n",
       "    table.wandb td:nth-child(1) { padding: 0 10px; text-align: left ; width: auto;} td:nth-child(2) {text-align: left ; width: 100%}\n",
       "    .wandb-row { display: flex; flex-direction: row; flex-wrap: wrap; justify-content: flex-start; width: 100% }\n",
       "    .wandb-col { display: flex; flex-direction: column; flex-basis: 100%; flex: 1; padding: 10px; }\n",
       "    </style>\n",
       "<div class=\"wandb-row\"><div class=\"wandb-col\"><h3>Run history:</h3><br/><table class=\"wandb\"><tr><td>epoch</td><td>▁▁▂▂▃▃▃▃▄▄▅▅▆▆▆▆▇▇██</td></tr><tr><td>train/acc</td><td>▁▃▄▅▅▆▆▇▇█</td></tr><tr><td>train/loss</td><td>█▆▅▄▄▃▂▂▁▁</td></tr><tr><td>trainer/global_step</td><td>▁▁▂▂▃▃▃▃▄▄▅▅▆▆▆▆▇▇██</td></tr><tr><td>valid/acc</td><td>▁▇██▆▅▆▅▅▅</td></tr><tr><td>valid/loss</td><td>▁▁▃▄▄▅▆▆▇█</td></tr><tr><td>valid/top5_acc</td><td>█▄▃▃▂▁▁▁▁▁</td></tr></table><br/></div><div class=\"wandb-col\"><h3>Run summary:</h3><br/><table class=\"wandb\"><tr><td>epoch</td><td>9</td></tr><tr><td>train/acc</td><td>0.81452</td></tr><tr><td>train/loss</td><td>0.5259</td></tr><tr><td>trainer/global_step</td><td>1959</td></tr><tr><td>valid/acc</td><td>0.52503</td></tr><tr><td>valid/loss</td><td>2.92801</td></tr><tr><td>valid/top5_acc</td><td>0.92333</td></tr></table><br/></div></div>"
      ],
      "text/plain": [
       "<IPython.core.display.HTML object>"
      ]
     },
     "metadata": {},
     "output_type": "display_data"
    },
    {
     "data": {
      "text/html": [
       " View run <strong style=\"color:#cdcd00\">mlp_3x512</strong> at: <a href='https://wandb.ai/stepp1/generalization/runs/pjciqgxr' target=\"_blank\">https://wandb.ai/stepp1/generalization/runs/pjciqgxr</a><br/>Synced 7 W&B file(s), 0 media file(s), 1 artifact file(s) and 1 other file(s)"
      ],
      "text/plain": [
       "<IPython.core.display.HTML object>"
      ]
     },
     "metadata": {},
     "output_type": "display_data"
    },
    {
     "data": {
      "text/html": [
       "Find logs at: <code>logs/wandb/run-20230530_164646-pjciqgxr/logs</code>"
      ],
      "text/plain": [
       "<IPython.core.display.HTML object>"
      ]
     },
     "metadata": {},
     "output_type": "display_data"
    },
    {
     "name": "stdout",
     "output_type": "stream",
     "text": [
      "Corruption: shuffled_pixels\n"
     ]
    },
    {
     "data": {
      "text/html": [
       "Tracking run with wandb version 0.15.3"
      ],
      "text/plain": [
       "<IPython.core.display.HTML object>"
      ]
     },
     "metadata": {},
     "output_type": "display_data"
    },
    {
     "data": {
      "text/html": [
       "Run data is saved locally in <code>logs/wandb/run-20230530_164912-0hjuzv00</code>"
      ],
      "text/plain": [
       "<IPython.core.display.HTML object>"
      ]
     },
     "metadata": {},
     "output_type": "display_data"
    },
    {
     "data": {
      "text/html": [
       "Syncing run <strong><a href='https://wandb.ai/stepp1/generalization/runs/0hjuzv00' target=\"_blank\">mlp_3x512</a></strong> to <a href='https://wandb.ai/stepp1/generalization' target=\"_blank\">Weights & Biases</a> (<a href='https://wandb.me/run' target=\"_blank\">docs</a>)<br/>"
      ],
      "text/plain": [
       "<IPython.core.display.HTML object>"
      ]
     },
     "metadata": {},
     "output_type": "display_data"
    },
    {
     "data": {
      "text/html": [
       " View project at <a href='https://wandb.ai/stepp1/generalization' target=\"_blank\">https://wandb.ai/stepp1/generalization</a>"
      ],
      "text/plain": [
       "<IPython.core.display.HTML object>"
      ]
     },
     "metadata": {},
     "output_type": "display_data"
    },
    {
     "data": {
      "text/html": [
       " View run at <a href='https://wandb.ai/stepp1/generalization/runs/0hjuzv00' target=\"_blank\">https://wandb.ai/stepp1/generalization/runs/0hjuzv00</a>"
      ],
      "text/plain": [
       "<IPython.core.display.HTML object>"
      ]
     },
     "metadata": {},
     "output_type": "display_data"
    },
    {
     "name": "stderr",
     "output_type": "stream",
     "text": [
      "GPU available: True (cuda), used: True\n",
      "TPU available: False, using: 0 TPU cores\n",
      "IPU available: False, using: 0 IPUs\n",
      "HPU available: False, using: 0 HPUs\n",
      "LOCAL_RANK: 0 - CUDA_VISIBLE_DEVICES: [0]\n",
      "\n",
      "  | Name           | Type               | Params\n",
      "------------------------------------------------------\n",
      "0 | net            | MLP                | 1.7 M \n",
      "1 | train_acc      | MulticlassAccuracy | 0     \n",
      "2 | valid_acc      | MulticlassAccuracy | 0     \n",
      "3 | valid_top5_acc | MulticlassAccuracy | 0     \n",
      "------------------------------------------------------\n",
      "1.7 M     Trainable params\n",
      "0         Non-trainable params\n",
      "1.7 M     Total params\n",
      "6.935     Total estimated model params size (MB)\n"
     ]
    },
    {
     "name": "stdout",
     "output_type": "stream",
     "text": [
      "Epoch 9: 100%|██████████| 196/196 [00:13<00:00, 14.95it/s, v_num=zv00, valid/acc=0.522, valid/top5_acc=0.922, train/loss=0.525, train/acc=0.815]"
     ]
    },
    {
     "name": "stderr",
     "output_type": "stream",
     "text": [
      "`Trainer.fit` stopped: `max_epochs=10` reached.\n"
     ]
    },
    {
     "name": "stdout",
     "output_type": "stream",
     "text": [
      "Epoch 9: 100%|██████████| 196/196 [00:13<00:00, 14.91it/s, v_num=zv00, valid/acc=0.522, valid/top5_acc=0.922, train/loss=0.525, train/acc=0.815]\n",
      "== Total time: 133.778 s, 2.230 min\n"
     ]
    }
   ],
   "source": [
    "import wandb\n",
    "\n",
    "for model in models.keys():\n",
    "    print(\"Model:\", model)\n",
    "\n",
    "    for corruption, exp in experiments.items():\n",
    "        wandb.finish()\n",
    "        print(\"Corruption:\", corruption)\n",
    "\n",
    "        net = models.get(model)\n",
    "        logger = WandbLogger(\n",
    "            name=f\"{model}\",\n",
    "            project=\"generalization\",\n",
    "            log_model=True,\n",
    "            save_dir=\"logs\",\n",
    "            group=f\"{corruption}\"\n",
    "        )\n",
    "        trainer = L.Trainer(max_epochs=10, logger=logger, default_root_dir=\"logs\")\n",
    "        pl_model = LitModel(net)\n",
    "        start_time = time.time()\n",
    "        trainer.fit(\n",
    "            pl_model,\n",
    "            experiments[corruption][\"train_loader\"],\n",
    "            experiments[corruption][\"test_loader\"],\n",
    "        )\n",
    "        print(\n",
    "            f\"== Total time: {time.time() - start_time:.3f} s, {(time.time() - start_time)/ 60:.3f} min\"\n",
    "        )\n",
    "        break"
   ]
  },
  {
   "cell_type": "code",
   "execution_count": null,
   "metadata": {},
   "outputs": [],
   "source": []
  },
  {
   "cell_type": "code",
   "execution_count": null,
   "metadata": {},
   "outputs": [],
   "source": []
  }
 ],
 "metadata": {
  "kernelspec": {
   "display_name": "generalization",
   "language": "python",
   "name": "python3"
  },
  "language_info": {
   "codemirror_mode": {
    "name": "ipython",
    "version": 3
   },
   "file_extension": ".py",
   "mimetype": "text/x-python",
   "name": "python",
   "nbconvert_exporter": "python",
   "pygments_lexer": "ipython3",
   "version": "3.10.11"
  },
  "orig_nbformat": 4
 },
 "nbformat": 4,
 "nbformat_minor": 2
}
