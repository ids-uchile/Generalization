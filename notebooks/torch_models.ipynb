{
 "cells": [
  {
   "cell_type": "code",
   "execution_count": 3,
   "metadata": {},
   "outputs": [],
   "source": [
    "%load_ext autoreload\n",
    "%autoreload 2"
   ]
  },
  {
   "cell_type": "code",
   "execution_count": 4,
   "metadata": {},
   "outputs": [
    {
     "name": "stdout",
     "output_type": "stream",
     "text": [
      "Available corruptions:\n",
      " ['gaussian_pixels', 'random_labels', 'random_pixels', 'partial_labels', 'shuffled_pixels']\n"
     ]
    }
   ],
   "source": [
    "from generalization.randomization import available_corruptions\n",
    "\n",
    "import matplotlib.pyplot as plt\n",
    "import numpy as np\n",
    "import os\n",
    "\n",
    "def get_num_cpus():\n",
    "    return len(os.sched_getaffinity(0))\n",
    "\n",
    "\n",
    "def check(learn, dl, plt_title=None):\n",
    "    y_pred, ys, losses = learn.get_preds(1, dl=dl, with_loss=True, reorder=True)\n",
    "\n",
    "    print(y_pred[0].min(), y_pred[0].max(), y_pred[0].sum())\n",
    "    print(y_pred[0].argmax(), ys[0], losses[0])\n",
    "    plot_losses(losses, width=1, plt_title=plt_title)\n",
    "\n",
    "\n",
    "def plot_losses(losses, width=1, plt_title=None):\n",
    "    plt.bar(np.arange(len(losses)), losses, width=width)\n",
    "    plt.title(plt_title)\n",
    "    plt.show()\n",
    "\n",
    "\n",
    "print(\"Available corruptions:\\n\", available_corruptions())"
   ]
  },
  {
   "attachments": {},
   "cell_type": "markdown",
   "metadata": {},
   "source": [
    "## Configuration for all experiments"
   ]
  },
  {
   "cell_type": "code",
   "execution_count": 5,
   "metadata": {},
   "outputs": [],
   "source": [
    "from generalization.randomization import build_cifar10\n",
    "import torch\n",
    "\n",
    "\n",
    "def build_experiments(corrupt_prob, corrupt_name=None, batch_size=128):\n",
    "    corruptions = available_corruptions()\n",
    "\n",
    "    experiments = dict()\n",
    "\n",
    "    if corrupt_name is not None:\n",
    "        corruptions = [corrupt_name]\n",
    "\n",
    "    for corrupt_name in corruptions:\n",
    "        if corrupt_name == \"gaussian_pixels\":\n",
    "            continue\n",
    "        train_set, test_set = build_cifar10(\n",
    "            corruption_name=corrupt_name,\n",
    "            corruption_prob=corrupt_prob,\n",
    "            show_images=False,\n",
    "            verbose=False,\n",
    "        )\n",
    "\n",
    "        train_loader = torch.utils.data.DataLoader(\n",
    "            train_set,\n",
    "            batch_size=batch_size,\n",
    "            shuffle=True,\n",
    "            num_workers=get_num_cpus(),\n",
    "            pin_memory=True,\n",
    "        )\n",
    "\n",
    "        val_set, test_set = torch.utils.data.random_split(\n",
    "            test_set, [len(test_set) // 2, len(test_set) - len(test_set) // 2]\n",
    "        )\n",
    "\n",
    "        val_loader = torch.utils.data.DataLoader(\n",
    "            val_set,\n",
    "            batch_size=batch_size * 2,\n",
    "            shuffle=False,\n",
    "            num_workers=get_num_cpus(),\n",
    "            pin_memory=True,\n",
    "        )\n",
    "\n",
    "        test_loader = torch.utils.data.DataLoader(\n",
    "            test_set,\n",
    "            batch_size=batch_size * 2,\n",
    "            shuffle=False,\n",
    "            num_workers=get_num_cpus(),\n",
    "            pin_memory=True,\n",
    "        )\n",
    "\n",
    "        experiments[corrupt_name] = {\n",
    "            \"train_set\": train_set,\n",
    "            \"val_set\": val_set,\n",
    "            \"test_set\": test_set,\n",
    "            \"train_loader\": train_loader,\n",
    "            \"val_loader\": val_loader,\n",
    "            \"test_loader\": test_loader,\n",
    "        }\n",
    "    return experiments"
   ]
  },
  {
   "attachments": {},
   "cell_type": "markdown",
   "metadata": {},
   "source": [
    "## All Corruptions"
   ]
  },
  {
   "cell_type": "code",
   "execution_count": 6,
   "metadata": {},
   "outputs": [],
   "source": [
    "import lightning as L\n",
    "import torchmetrics\n",
    "from lightning.pytorch.loggers import WandbLogger\n",
    "from lightning.pytorch.loggers import TensorBoardLogger\n",
    "\n",
    "from torch import nn\n",
    "from torch.nn import functional as F\n",
    "\n",
    "class LitModel(L.LightningModule):\n",
    "    def __init__(self, net: nn.Module, lr: float = 1e-3, n_classes=10):\n",
    "        super().__init__()\n",
    "        self.net = net\n",
    "        self.lr = lr\n",
    "        self.n_classes = n_classes\n",
    "        self.train_acc = torchmetrics.Accuracy(task=\"multiclass\", num_classes=n_classes)\n",
    "        self.valid_acc = torchmetrics.Accuracy(task=\"multiclass\", num_classes=n_classes)\n",
    "        self.valid_top5_acc = torchmetrics.Accuracy(\n",
    "            task=\"multiclass\", num_classes=n_classes, top_k=5\n",
    "        )\n",
    "        self.early_stop_counter = 0\n",
    "        self.patience = 5\n",
    "        self.best_valid_acc = 0\n",
    "\n",
    "    def forward(self, x):\n",
    "        out = self.net(x)\n",
    "        return out\n",
    "\n",
    "    def training_step(self, batch, batch_idx):\n",
    "        # training_step defines the train loop. It is independent of forward\n",
    "        x, y = batch\n",
    "        logits = self(x)\n",
    "        loss = F.cross_entropy(logits, y)\n",
    "\n",
    "        self.log(\"train/loss\", loss, on_epoch=True, on_step=False, prog_bar=True)\n",
    "        self.step_metrics(logits=logits, y=y, mode=\"train\")\n",
    "        return loss\n",
    "\n",
    "    def validation_step(self, batch, batch_idx):\n",
    "        x, y = batch\n",
    "        logits = self(x)\n",
    "        loss = F.cross_entropy(logits, y)\n",
    "\n",
    "        self.log(\"valid/loss\", loss, on_epoch=True, on_step=False, prog_bar=True)\n",
    "        self.step_metrics(logits=logits, y=y, mode=\"val\")\n",
    "        return loss\n",
    "    \n",
    "    def on_validation_end(self) -> None:\n",
    "        current_valid_acc = self.valid_acc.compute()\n",
    "        if current_valid_acc > self.best_valid_acc:\n",
    "            self.best_valid_acc = current_valid_acc\n",
    "            self.early_stop_counter = 0\n",
    "        else:\n",
    "            self.early_stop_counter += 1\n",
    "            if self.early_stop_counter > self.patience:\n",
    "                self.early_stop_counter = 0\n",
    "                # self.trainer.should_stop = True\n",
    "\n",
    "                self.logger.experiment.add_scalar(\"early_stop\", self.current_epoch)\n",
    "        \n",
    "\n",
    "    def step_metrics(self, logits, y, mode):\n",
    "        if mode == \"train\":\n",
    "            self.train_acc.update(logits, y)\n",
    "            self.log(\n",
    "                \"train/acc\", self.train_acc, on_step=False, on_epoch=True, prog_bar=True\n",
    "            )\n",
    "\n",
    "        elif mode == \"val\":\n",
    "            self.valid_acc.update(logits, y)\n",
    "            self.valid_top5_acc.update(logits, y)\n",
    "\n",
    "            self.log(\n",
    "                \"valid/acc\",\n",
    "                self.valid_acc.compute(),\n",
    "                on_step=False,\n",
    "                on_epoch=True,\n",
    "                prog_bar=True,\n",
    "            )\n",
    "            self.log(\n",
    "                \"valid/top5_acc\",\n",
    "                self.valid_top5_acc.compute(),\n",
    "                on_step=False,\n",
    "                on_epoch=True,\n",
    "                prog_bar=True,\n",
    "            )\n",
    "\n",
    "    def configure_optimizers(self):\n",
    "        optimizer = torch.optim.SGD(self.net.parameters(), lr=self.lr, momentum=0.9)\n",
    "        scheduler = torch.optim.lr_scheduler.StepLR(optimizer, 1, gamma=0.99)\n",
    "        return [optimizer], [scheduler]"
   ]
  },
  {
   "cell_type": "code",
   "execution_count": 7,
   "metadata": {},
   "outputs": [
    {
     "name": "stderr",
     "output_type": "stream",
     "text": [
      "Global seed set to 5678\n"
     ]
    },
    {
     "name": "stdout",
     "output_type": "stream",
     "text": [
      "Files already downloaded and verified\n"
     ]
    },
    {
     "name": "stderr",
     "output_type": "stream",
     "text": [
      "/home/step/Code/projects/ids-generalization/notebooks/generalization/randomization/dataset.py:203: UserWarning: corruption_prob is ignored when corruption_name is 'random_*'\n",
      "  warnings.warn(\n"
     ]
    },
    {
     "name": "stdout",
     "output_type": "stream",
     "text": [
      "Files already downloaded and verified\n",
      "dict_keys(['alexnet', 'inception', 'mlp_1x512', 'mlp_3x512'])\n"
     ]
    }
   ],
   "source": [
    "import time\n",
    "from generalization.models import get_cifar_models\n",
    "\n",
    "torch.set_float32_matmul_precision(\"medium\")\n",
    "\n",
    "SEED = 5678\n",
    "BATCH_SIZE = 256\n",
    "LEARNING_RATE = 0.01\n",
    "PRINT_EVERY = 3\n",
    "EPOCHS = 10\n",
    "MODEL_NAME = \"inception\"\n",
    "CORRUPT_NAME = \"random_labels\"\n",
    "\n",
    "L.seed_everything(SEED)\n",
    "experiments = build_experiments(corrupt_prob=0.1, corrupt_name=CORRUPT_NAME, batch_size=BATCH_SIZE)\n",
    "\n",
    "models = get_cifar_models(lib=\"torch\")\n",
    "print(models.keys())\n",
    "net = models.get(MODEL_NAME)\n",
    "\n",
    "logger = None\n",
    "# logger = WandbLogger(\n",
    "#     name=f\"{model}\",\n",
    "#     project=\"generalization\",\n",
    "#     log_model=True,\n",
    "#     save_dir=\"logs\",\n",
    "#     group=f\"{corruption}\"\n",
    "# )\n",
    "\n",
    "logger = TensorBoardLogger(\n",
    "    save_dir=\"logs\",\n",
    "    name=f\"{MODEL_NAME}\",\n",
    "    version=f\"{CORRUPT_NAME}\",\n",
    ")"
   ]
  },
  {
   "cell_type": "code",
   "execution_count": 6,
   "metadata": {},
   "outputs": [
    {
     "name": "stderr",
     "output_type": "stream",
     "text": [
      "GPU available: True (cuda), used: True\n",
      "TPU available: False, using: 0 TPU cores\n",
      "IPU available: False, using: 0 IPUs\n",
      "HPU available: False, using: 0 HPUs\n"
     ]
    },
    {
     "name": "stderr",
     "output_type": "stream",
     "text": [
      "LOCAL_RANK: 0 - CUDA_VISIBLE_DEVICES: [0]\n",
      "\n",
      "  | Name           | Type               | Params\n",
      "------------------------------------------------------\n",
      "0 | net            | InceptionSmall     | 8.0 M \n",
      "1 | train_acc      | MulticlassAccuracy | 0     \n",
      "2 | valid_acc      | MulticlassAccuracy | 0     \n",
      "3 | valid_top5_acc | MulticlassAccuracy | 0     \n",
      "------------------------------------------------------\n",
      "8.0 M     Trainable params\n",
      "0         Non-trainable params\n",
      "8.0 M     Total params\n",
      "32.191    Total estimated model params size (MB)\n"
     ]
    },
    {
     "name": "stdout",
     "output_type": "stream",
     "text": [
      "Epoch 11:   0%|          | 0/196 [00:00<?, ?it/s, v_num=bels, valid/loss=18.10, valid/acc=0.0939, valid/top5_acc=0.443, train/loss=0.0805, train/acc=0.972]          "
     ]
    },
    {
     "name": "stdout",
     "output_type": "stream",
     "text": [
      "Epoch 11:  18%|█▊        | 35/196 [00:02<00:10, 15.51it/s, v_num=bels, valid/loss=18.10, valid/acc=0.0939, valid/top5_acc=0.443, train/loss=0.0805, train/acc=0.972]"
     ]
    }
   ],
   "source": [
    "trainer = L.Trainer(\n",
    "    max_epochs=60, \n",
    "    logger=logger , \n",
    "    default_root_dir=\"logs\",\n",
    ")\n",
    "pl_model = LitModel(net, lr=LEARNING_RATE, n_classes=10)\n",
    "start_time = time.time()\n",
    "trainer.fit(\n",
    "    pl_model,\n",
    "    experiments[CORRUPT_NAME][\"train_loader\"],\n",
    "    experiments[CORRUPT_NAME][\"val_loader\"],\n",
    ")\n",
    "print(f\"Training took {time.time() - start_time:.2f} seconds\")"
   ]
  },
  {
   "cell_type": "code",
   "execution_count": 1,
   "metadata": {},
   "outputs": [
    {
     "name": "stdout",
     "output_type": "stream",
     "text": [
      "TensorFlow installation not found - running with reduced feature set.\n",
      "\n",
      "NOTE: Using experimental fast data loading logic. To disable, pass\n",
      "    \"--load_fast=false\" and report issues on GitHub. More details:\n",
      "    https://github.com/tensorflow/tensorboard/issues/4784\n",
      "\n",
      "Serving TensorBoard on localhost; to expose to the network, use a proxy or pass --bind_all\n",
      "TensorBoard 2.13.0 at http://localhost:6006/ (Press CTRL+C to quit)\n",
      "^C\n"
     ]
    }
   ],
   "source": [
    "!tensorboard --logdir logs"
   ]
  },
  {
   "cell_type": "code",
   "execution_count": 91,
   "metadata": {},
   "outputs": [
    {
     "name": "stderr",
     "output_type": "stream",
     "text": [
      "Clipping input data to the valid range for imshow with RGB data ([0..1] for floats or [0..255] for integers).\n"
     ]
    },
    {
     "data": {
      "image/png": "[encoded data removed]",
      "text/plain": [
       "<Figure size 200x200 with 1 Axes>"
      ]
     },
     "metadata": {},
     "output_type": "display_data"
    }
   ],
   "source": [
    "from torchvision import transforms\n",
    "from generalization.randomization.utils import CIFAR10_NORMALIZE_MEAN, CIFAR10_NORMALIZE_STD\n",
    "\n",
    "\n",
    "idx = np.random.randint(len(experiments[CORRUPT_NAME][\"train_set\"]))\n",
    "\n",
    "unnormalize = transforms.functional.normalize(\n",
    "    experiments[CORRUPT_NAME][\"train_set\"][idx][0],\n",
    "    mean=[-m / s for m, s in zip(CIFAR10_NORMALIZE_MEAN, CIFAR10_NORMALIZE_STD)],\n",
    "    std=[1 / s for s in CIFAR10_NORMALIZE_STD],\n",
    ")\n",
    "\n",
    "label = experiments[CORRUPT_NAME][\"train_set\"][idx][1]\n",
    "class_name = experiments[CORRUPT_NAME][\"train_set\"].classes[label]\n",
    "\n",
    "\n",
    "f, ax = plt.subplots(1, 1, figsize=(2, 2))\n",
    "ax.imshow(unnormalize.permute(1, 2, 0))\n",
    "ax.set_title(f\"Corrupted label: {class_name}\")\n",
    "ax.axis(\"off\")\n",
    "plt.show()"
   ]
  },
  {
   "cell_type": "code",
   "execution_count": null,
   "metadata": {},
   "outputs": [],
   "source": [
    "# import wandb\n",
    "# \n",
    "# for model in models.keys():\n",
    "#     print(\"Model:\", model)\n",
    "\n",
    "#     for corruption, exp in experiments.items():\n",
    "#         wandb.finish()\n",
    "#         print(\"Corruption:\", corruption)\n",
    "\n",
    "#         net = models.get(model)\n",
    "#         logger = WandbLogger(\n",
    "#             name=f\"{model}\",\n",
    "#             project=\"generalization\",\n",
    "#             log_model=True,\n",
    "#             save_dir=\"logs\",\n",
    "#             group=f\"{corruption}\"\n",
    "#         )\n",
    "#         trainer = L.Trainer(max_epochs=10, logger=logger, default_root_dir=\"logs\")\n",
    "#         pl_model = LitModel(net)\n",
    "#         start_time = time.time()\n",
    "#         trainer.fit(\n",
    "#             pl_model,\n",
    "#             experiments[corruption][\"train_loader\"],\n",
    "#             experiments[corruption][\"test_loader\"],\n",
    "#         )\n",
    "#         print(\n",
    "#             f\"== Total time: {time.time() - start_time:.3f} s, {(time.time() - start_time)/ 60:.3f} min\"\n",
    "#         )\n",
    "#         break"
   ]
  }
 ],
 "metadata": {
  "kernelspec": {
   "display_name": "generalization",
   "language": "python",
   "name": "python3"
  },
  "language_info": {
   "codemirror_mode": {
    "name": "ipython",
    "version": 3
   },
   "file_extension": ".py",
   "mimetype": "text/x-python",
   "name": "python",
   "nbconvert_exporter": "python",
   "pygments_lexer": "ipython3",
   "version": "3.10.11"
  },
  "orig_nbformat": 4
 },
 "nbformat": 4,
 "nbformat_minor": 2
}
