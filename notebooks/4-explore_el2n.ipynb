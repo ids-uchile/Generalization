{
 "cells": [
  {
   "cell_type": "code",
   "execution_count": 15,
   "metadata": {},
   "outputs": [
    {
     "name": "stdout",
     "output_type": "stream",
     "text": [
      "['gaussian_pixels', 'random_labels', 'random_pixels', 'partial_labels', 'shuffled_pixels']\n",
      "['resnet18', 'resnet34', 'alexnet', 'inception', 'mlp_1x512', 'mlp_3x512']\n"
     ]
    }
   ],
   "source": [
    "import time\n",
    "\n",
    "from model import LitModel\n",
    "from main import (\n",
    "    build_experiment,\n",
    "    DEFAULT_PARAMS,\n",
    "    get_cifar_models,\n",
    "    available_corruptions,\n",
    ")\n",
    "\n",
    "import torch\n",
    "import lightning as L\n",
    "\n",
    "all_corruptions = available_corruptions()\n",
    "print(all_corruptions)\n",
    "\n",
    "models = get_cifar_models(lib=\"torch\")\n",
    "\n",
    "print(list(models.keys()))"
   ]
  },
  {
   "cell_type": "code",
   "execution_count": 16,
   "metadata": {},
   "outputs": [],
   "source": [
    "import lightning.pytorch as pl\n",
    "from lightning.pytorch.core.module import LightningModule\n",
    "from lightning.pytorch.callbacks import ModelPruning\n",
    "from lightning.pytorch.utilities.rank_zero import rank_zero_debug\n",
    "\n",
    "class LitModelPruning(ModelPruning):\n",
    "    def filter_parameters_to_prune(self, parameters_to_prune):\n",
    "        # filter linear layers\n",
    "        filter_names = [\"Linear\"]\n",
    "        return [\n",
    "            (param, name)\n",
    "            for param, name in parameters_to_prune\n",
    "            if not any([filter_name in param.__class__.__name__ for filter_name in filter_names])\n",
    "        ]\n",
    "    \n",
    "    def on_train_epoch_end(self, trainer: \"pl.Trainer\", pl_module: LightningModule) -> None:\n",
    "        if self._prune_on_train_epoch_end:\n",
    "            rank_zero_debug(\"`ModelPruning.on_train_epoch_end`. Applying pruning\")\n",
    "            self._run_pruning(pl_module.current_epoch)\n",
    "\n",
    "def apply_prunning_every(k):\n",
    "    \"\"\"\n",
    "    Apply pruning every k epochs, ignores epoch 0.\n",
    "    \n",
    "    Parameters:\n",
    "        k (int): apply pruning every k epochs\n",
    "\n",
    "    Returns:\n",
    "        Callable: wrapper with the following signature: `wrapper(current_epoch) -> bool`\n",
    "    \"\"\"\n",
    "\n",
    "    return lambda current_epoch: current_epoch % k == 0 and current_epoch != 0"
   ]
  },
  {
   "cell_type": "code",
   "execution_count": 18,
   "metadata": {},
   "outputs": [
    {
     "data": {
      "text/html": [
       "Waiting for W&B process to finish... <strong style=\"color:green\">(success).</strong>"
      ],
      "text/plain": [
       "<IPython.core.display.HTML object>"
      ]
     },
     "metadata": {},
     "output_type": "display_data"
    },
    {
     "data": {
      "text/html": [
       " View run <strong style=\"color:#cdcd00\">alexnet_normal_labels_0.0</strong> at: <a href='https://wandb.ai/stepp1/pruning/runs/7fy7369x' target=\"_blank\">https://wandb.ai/stepp1/pruning/runs/7fy7369x</a><br/>Synced 7 W&B file(s), 0 media file(s), 5 artifact file(s) and 1 other file(s)"
      ],
      "text/plain": [
       "<IPython.core.display.HTML object>"
      ]
     },
     "metadata": {},
     "output_type": "display_data"
    },
    {
     "data": {
      "text/html": [
       "Find logs at: <code>./wandb/run-20230628_144806-7fy7369x/logs</code>"
      ],
      "text/plain": [
       "<IPython.core.display.HTML object>"
      ]
     },
     "metadata": {},
     "output_type": "display_data"
    },
    {
     "name": "stderr",
     "output_type": "stream",
     "text": [
      "GPU available: True (cuda), used: True\n",
      "TPU available: False, using: 0 TPU cores\n",
      "IPU available: False, using: 0 IPUs\n",
      "HPU available: False, using: 0 HPUs\n"
     ]
    },
    {
     "name": "stdout",
     "output_type": "stream",
     "text": [
      "Files already downloaded and verified\n",
      "Files already downloaded and verified\n"
     ]
    }
   ],
   "source": [
    "import os\n",
    "import wandb\n",
    "import torch\n",
    "\n",
    "torch.set_float32_matmul_precision('medium')\n",
    "hparams = DEFAULT_PARAMS.copy()\n",
    "\n",
    "MODEL_NAME = \"alexnet\"\n",
    "CORRUPTION_NAME = \"normal_labels\"\n",
    "CORRUPTION_PROB = 0.0\n",
    "\n",
    "model = models[MODEL_NAME]\n",
    "\n",
    "hparams[\"model_name\"] = MODEL_NAME\n",
    "hparams[\"n_classes\"] = 10\n",
    "hparams[\"drop_return_index\"] = True\n",
    "hparams[\"corrupt_name\"] = CORRUPTION_NAME\n",
    "hparams[\"corrupt_prob\"] = CORRUPTION_PROB\n",
    "hparams[\"val_every\"] = 1\n",
    "\n",
    "\n",
    "experiment_name = f\"{hparams['model_name']}_{hparams['corrupt_name']}_{hparams['corrupt_prob']}\"\n",
    "\n",
    "os.environ.update({\"WANDB_NOTEBOOK_NAME\": \"pruning.ipynb\"})\n",
    "\n",
    "try:\n",
    "    wandb.finish()\n",
    "except Exception:\n",
    "    pass\n",
    "\n",
    "pruning_cb = LitModelPruning(\n",
    "    pruning_fn=\"l1_unstructured\",\n",
    "    amount=0.1,\n",
    "    use_global_unstructured=True,\n",
    "    use_lottery_ticket_hypothesis=True,\n",
    "    apply_pruning=apply_prunning_every(5),\n",
    "    verbose=2\n",
    ")\n",
    "\n",
    "trainer = L.Trainer(\n",
    "    max_epochs=30,\n",
    "    logger=[wb_logger, tb_logger],\n",
    "    default_root_dir=\"logs\",\n",
    "    check_val_every_n_epoch=hparams[\"val_every\"],\n",
    "    callbacks=[L.pytorch.callbacks.EarlyStopping(monitor=\"valid/loss\", patience=3)],\n",
    "    accelerator=\"gpu\",\n",
    ")\n",
    "\n",
    "data = build_experiment(\n",
    "    corrupt_name=hparams['corrupt_name'],\n",
    "    corrupt_prob=hparams['corrupt_prob'],\n",
    "    batch_size=hparams[\"batch_size\"],\n",
    ")\n",
    "train_loader = data[\"normal_labels\"][\"train_loader\"]\n",
    "val_loader = data[\"normal_labels\"][\"val_loader\"]\n",
    "\n",
    "# dict(model.named_parameters()).keys()\n",
    "\n",
    "hparams[\"learning_rate\"] = 0.01"
   ]
  },
  {
   "cell_type": "code",
   "execution_count": 11,
   "metadata": {},
   "outputs": [
    {
     "name": "stderr",
     "output_type": "stream",
     "text": [
      "LOCAL_RANK: 0 - CUDA_VISIBLE_DEVICES: [0]\n",
      "\n",
      "  | Name           | Type               | Params\n",
      "------------------------------------------------------\n",
      "0 | net            | SmallAlexNet       | 56.8 M\n",
      "1 | train_acc      | MulticlassAccuracy | 0     \n",
      "2 | valid_acc      | MulticlassAccuracy | 0     \n",
      "3 | valid_top5_acc | MulticlassAccuracy | 0     \n",
      "4 | test_acc       | MulticlassAccuracy | 0     \n",
      "5 | test_top5_acc  | MulticlassAccuracy | 0     \n",
      "------------------------------------------------------\n",
      "56.8 M    Trainable params\n",
      "0         Non-trainable params\n",
      "56.8 M    Total params\n",
      "227.307   Total estimated model params size (MB)\n"
     ]
    },
    {
     "name": "stdout",
     "output_type": "stream",
     "text": [
      "Sanity Checking: 0it [00:00, ?it/s]"
     ]
    },
    {
     "name": "stdout",
     "output_type": "stream",
     "text": [
      "Epoch 3: 100%|██████████| 196/196 [00:09<00:00, 19.64it/s, v_num=q4_6, valid/loss=1.600, valid/acc=0.733, valid/top5_acc=0.973, train/loss=0.0331, train/acc=0.989]\n",
      "Training took 42.17 seconds\n"
     ]
    },
    {
     "data": {
      "text/html": [
       "Waiting for W&B process to finish... <strong style=\"color:green\">(success).</strong>"
      ],
      "text/plain": [
       "<IPython.core.display.HTML object>"
      ]
     },
     "metadata": {},
     "output_type": "display_data"
    },
    {
     "data": {
      "text/html": [
       "<style>\n",
       "    table.wandb td:nth-child(1) { padding: 0 10px; text-align: left ; width: auto;} td:nth-child(2) {text-align: left ; width: 100%}\n",
       "    .wandb-row { display: flex; flex-direction: row; flex-wrap: wrap; justify-content: flex-start; width: 100% }\n",
       "    .wandb-col { display: flex; flex-direction: column; flex-basis: 100%; flex: 1; padding: 10px; }\n",
       "    </style>\n",
       "<div class=\"wandb-row\"><div class=\"wandb-col\"><h3>Run history:</h3><br/><table class=\"wandb\"><tr><td>epoch</td><td>▁▁▃▃▆▆██</td></tr><tr><td>train/acc</td><td>▁▅▇█</td></tr><tr><td>train/loss</td><td>█▄▂▁</td></tr><tr><td>trainer/global_step</td><td>▃▁▃▄▁▄▆▁▆█▁█</td></tr><tr><td>valid/acc</td><td>▁▅▇█</td></tr><tr><td>valid/loss</td><td>▁▃▅█</td></tr><tr><td>valid/top5_acc</td><td>▁▁▆█</td></tr></table><br/></div><div class=\"wandb-col\"><h3>Run summary:</h3><br/><table class=\"wandb\"><tr><td>epoch</td><td>3</td></tr><tr><td>train/acc</td><td>0.9895</td></tr><tr><td>train/loss</td><td>0.03314</td></tr><tr><td>trainer/global_step</td><td>783</td></tr><tr><td>valid/acc</td><td>0.73264</td></tr><tr><td>valid/loss</td><td>1.605</td></tr><tr><td>valid/top5_acc</td><td>0.97309</td></tr></table><br/></div></div>"
      ],
      "text/plain": [
       "<IPython.core.display.HTML object>"
      ]
     },
     "metadata": {},
     "output_type": "display_data"
    },
    {
     "data": {
      "text/html": [
       " View run <strong style=\"color:#cdcd00\">alexnet_normal_labels_0.0</strong> at: <a href='https://wandb.ai/stepp1/pruning/runs/l0d5pfq4' target=\"_blank\">https://wandb.ai/stepp1/pruning/runs/l0d5pfq4</a><br/>Synced 7 W&B file(s), 4 media file(s), 11 artifact file(s) and 1 other file(s)"
      ],
      "text/plain": [
       "<IPython.core.display.HTML object>"
      ]
     },
     "metadata": {},
     "output_type": "display_data"
    },
    {
     "data": {
      "text/html": [
       "Find logs at: <code>./wandb/run-20230628_111638-l0d5pfq4/logs</code>"
      ],
      "text/plain": [
       "<IPython.core.display.HTML object>"
      ]
     },
     "metadata": {},
     "output_type": "display_data"
    }
   ],
   "source": [
    "tb_logger = L.pytorch.loggers.TensorBoardLogger(hparams[\"log_dir\"], name=\"pruning\")\n",
    "wb_logger = L.pytorch.loggers.WandbLogger(project=\"pruning\", name=experiment_name)\n",
    "# wb_logger.watch(model)\n",
    "wandb.run.log_code(\".\")\n",
    "pl_model = LitModel(model, hparams=hparams)\n",
    "\n",
    "start_time = time.time()\n",
    "trainer.fit(\n",
    "    pl_model,\n",
    "    train_loader,\n",
    "    val_loader,\n",
    ")\n",
    "print(f\"Training took {time.time() - start_time:.2f} seconds\")\n",
    "wandb.finish()"
   ]
  },
  {
   "cell_type": "code",
   "execution_count": 7,
   "metadata": {},
   "outputs": [
    {
     "data": {
      "image/png": "[encoded data removed]",
      "text/plain": [
       "<Figure size 640x480 with 1 Axes>"
      ]
     },
     "metadata": {},
     "output_type": "display_data"
    }
   ],
   "source": [
    "import pandas as pd\n",
    "import wandb\n",
    "import json\n",
    "\n",
    "import matplotlib.pyplot as plt\n",
    "import seaborn as sns\n",
    "\n",
    "sns.set_theme(style=\"whitegrid\")\n",
    "\n",
    "project = \"pruning\"\n",
    "pruned_run_id = \"wpuog9ol\"\n",
    "dense_run_id = \"l0d5pfq4\"\n",
    "\n",
    "\n",
    "def get_latest_scores(run_id):\n",
    "    api = wandb.Api()\n",
    "    run = api.run(f\"{project}/{run_id}\")\n",
    "    # list all artifacts, filtered by type\n",
    "    table_names = list(\n",
    "        [a.name for a in run.logged_artifacts() if \"trainscores\" in a.name]\n",
    "    )\n",
    "    latest_table = table_names[-1]\n",
    "\n",
    "    with open(api.artifact(f\"{project}/{latest_table}\").file()) as f:\n",
    "        json_dict = json.load(f)\n",
    "\n",
    "    return pd.DataFrame(json_dict[\"data\"], columns=json_dict[\"columns\"])\n",
    "\n",
    "\n",
    "def compute_el2n_percentile(df):\n",
    "    # group by epoch and compute the percentile of the column score, use round to have groups of 0.1\n",
    "    df[\"el2n_percentile\"] = df.groupby(\"epoch\")[\"score\"].rank(pct=True).round(1)\n",
    "    return df\n",
    "\n",
    "\n",
    "# plot as columns x=el2n_percentile, y=avg_loss_by_percentile\n",
    "def plot_avg_by_percentile(avg_by_percentile, name_to_plot=\"loss\"):\n",
    "    fig, ax = plt.subplots(figsize=(12, 8))\n",
    "    ax = sns.barplot(x=avg_by_percentile.index, y=avg_by_percentile.values, ax=ax)\n",
    "\n",
    "    ax.set_title(f\"Average {name_to_plot} by percentile\")\n",
    "    ax.set_xlabel(\"Percentile\")\n",
    "    ax.set_ylabel(f\"Average {name_to_plot}\")\n",
    "\n",
    "    return fig, ax\n",
    "\n",
    "\n",
    "def plot_difference_by_perccentile(\n",
    "    dense_scores, pruned_scores, column_to_plot=\"loss\", **plot_kwargs\n",
    "):\n",
    "    difference_by_percentile = (\n",
    "        dense_scores.groupby(\"el2n_percentile\")[column_to_plot].mean()\n",
    "        - pruned_scores.groupby(\"el2n_percentile\")[column_to_plot].mean()\n",
    "    )\n",
    "\n",
    "    fig, ax = plt.subplots(**plot_kwargs)\n",
    "    ax = sns.barplot(\n",
    "        x=difference_by_percentile.index, y=difference_by_percentile.values, ax=ax\n",
    "    )\n",
    "    ax.set_title(f\"Dense - Pruned {column_to_plot} by EL2N percentile\")\n",
    "    ax.set_xlabel(\"Percentile\")\n",
    "    ax.set_ylabel(f\"Difference in {column_to_plot}\")\n",
    "\n",
    "    return fig, ax\n",
    "\n",
    "\n",
    "pruned_scores = get_latest_scores(run_id=pruned_run_id)\n",
    "pruned_scores = compute_el2n_percentile(pruned_scores)\n",
    "\n",
    "dense_scores = get_latest_scores(run_id=dense_run_id)\n",
    "dense_scores = compute_el2n_percentile(dense_scores)\n",
    "\n",
    "\n",
    "plot_difference_by_perccentile(dense_scores, pruned_scores, column_to_plot=\"loss\");"
   ]
  },
  {
   "cell_type": "code",
   "execution_count": 37,
   "metadata": {},
   "outputs": [
    {
     "name": "stderr",
     "output_type": "stream",
     "text": [
      "Clipping input data to the valid range for imshow with RGB data ([0..1] for floats or [0..255] for integers).\n",
      "Clipping input data to the valid range for imshow with RGB data ([0..1] for floats or [0..255] for integers).\n",
      "Clipping input data to the valid range for imshow with RGB data ([0..1] for floats or [0..255] for integers).\n",
      "Clipping input data to the valid range for imshow with RGB data ([0..1] for floats or [0..255] for integers).\n",
      "Clipping input data to the valid range for imshow with RGB data ([0..1] for floats or [0..255] for integers).\n"
     ]
    },
    {
     "data": {
      "image/png": "[encoded data removed]",
      "text/plain": [
       "<Figure size 1500x1000 with 5 Axes>"
      ]
     },
     "metadata": {},
     "output_type": "display_data"
    }
   ],
   "source": [
    "# sample n from highest percentile\n",
    "n = 5\n",
    "highest_percentile = 0.9\n",
    "\n",
    "samples_id = dense_scores[dense_scores[\"el2n_percentile\"] == highest_percentile].sample(n).sample_id.values\n",
    "samples_imgs = [data[\"normal_labels\"][\"train_set\"][id][0].permute(1, 2, 0) * 0.5 + 0.5 for id in samples_id]\n",
    "samples_labels = [data[\"normal_labels\"][\"train_set\"][id][1] for id in samples_id]\n",
    "samples_classes = [data[\"normal_labels\"][\"train_set\"].classes[label] for label in samples_labels]\n",
    "\n",
    "\n",
    "fig, axs = plt.subplots(1, n, figsize=(15, 10))\n",
    "for i, (img, label, class_name) in enumerate(zip(samples_imgs, samples_labels, samples_classes)):\n",
    "    axs[i].imshow(img)\n",
    "    axs[i].set_title(f\"Label: {label} - Class: {class_name}\")\n",
    "    axs[i].axis(\"off\")"
   ]
  },
  {
   "cell_type": "code",
   "execution_count": 5,
   "metadata": {},
   "outputs": [],
   "source": [
    "# open local tensorbard logs\n",
    "import glob\n",
    "import pandas as pd\n",
    "from tensorboard.backend.event_processing import event_accumulator\n",
    "\n",
    "def load_tf(dirname):\n",
    "    dirname = glob.glob(dirname + '/*')[0]\n",
    "    \n",
    "    ea = event_accumulator.EventAccumulator(dirname)\n",
    "    ea.Reload()\n",
    "    mnames = ea.Tags()['scalars']\n",
    "    pruned_scores = pd.DataFrame(columns=[\"step\"])\n",
    "    for n in mnames:\n",
    "        current_pruned_scores = pd.DataFrame(ea.Scalars(n))\n",
    "        current_pruned_scores = current_pruned_scores.rename(columns={\"value\": n})\n",
    "        current_pruned_scores.drop(\"wall_time\", axis=1, inplace=True)\n",
    "\n",
    "        pruned_scores = pruned_scores.merge(current_pruned_scores, on=\"step\", how=\"right\")\n",
    "        pruned_scores.drop_duplicates(inplace=True)\n",
    "\n",
    "    return pruned_scores\n",
    "\n",
    "log_dir = \"logs/lightning_logs/version_64/\"\n",
    "# load_tf(log_dir)"
   ]
  },
  {
   "cell_type": "code",
   "execution_count": 6,
   "metadata": {},
   "outputs": [
    {
     "data": {
      "text/html": [
       "<div>\n",
       "<style scoped>\n",
       "    .dataframe tbody tr th:only-of-type {\n",
       "        vertical-align: middle;\n",
       "    }\n",
       "\n",
       "    .dataframe tbody tr th {\n",
       "        vertical-align: top;\n",
       "    }\n",
       "\n",
       "    .dataframe thead th {\n",
       "        text-align: right;\n",
       "    }\n",
       "</style>\n",
       "<table border=\"1\" class=\"dataframe\">\n",
       "  <thead>\n",
       "    <tr style=\"text-align: right;\">\n",
       "      <th></th>\n",
       "      <th>sample_id</th>\n",
       "      <th>epoch</th>\n",
       "      <th>score</th>\n",
       "      <th>percentile</th>\n",
       "    </tr>\n",
       "  </thead>\n",
       "  <tbody>\n",
       "    <tr>\n",
       "      <th>499675</th>\n",
       "      <td>9235</td>\n",
       "      <td>9.0</td>\n",
       "      <td>1.414212e+00</td>\n",
       "      <td>1.00000</td>\n",
       "    </tr>\n",
       "    <tr>\n",
       "      <th>288560</th>\n",
       "      <td>27949</td>\n",
       "      <td>5.0</td>\n",
       "      <td>1.414192e+00</td>\n",
       "      <td>1.00000</td>\n",
       "    </tr>\n",
       "    <tr>\n",
       "      <th>43930</th>\n",
       "      <td>31694</td>\n",
       "      <td>0.0</td>\n",
       "      <td>1.286880e+00</td>\n",
       "      <td>1.00000</td>\n",
       "    </tr>\n",
       "    <tr>\n",
       "      <th>326129</th>\n",
       "      <td>9235</td>\n",
       "      <td>6.0</td>\n",
       "      <td>1.414071e+00</td>\n",
       "      <td>1.00000</td>\n",
       "    </tr>\n",
       "    <tr>\n",
       "      <th>139748</th>\n",
       "      <td>47063</td>\n",
       "      <td>2.0</td>\n",
       "      <td>1.407979e+00</td>\n",
       "      <td>1.00000</td>\n",
       "    </tr>\n",
       "    <tr>\n",
       "      <th>...</th>\n",
       "      <td>...</td>\n",
       "      <td>...</td>\n",
       "      <td>...</td>\n",
       "      <td>...</td>\n",
       "    </tr>\n",
       "    <tr>\n",
       "      <th>450579</th>\n",
       "      <td>22792</td>\n",
       "      <td>9.0</td>\n",
       "      <td>4.496017e-15</td>\n",
       "      <td>0.00002</td>\n",
       "    </tr>\n",
       "    <tr>\n",
       "      <th>296397</th>\n",
       "      <td>29671</td>\n",
       "      <td>5.0</td>\n",
       "      <td>1.488372e-08</td>\n",
       "      <td>0.00002</td>\n",
       "    </tr>\n",
       "    <tr>\n",
       "      <th>398170</th>\n",
       "      <td>27187</td>\n",
       "      <td>7.0</td>\n",
       "      <td>3.713127e-12</td>\n",
       "      <td>0.00002</td>\n",
       "    </tr>\n",
       "    <tr>\n",
       "      <th>154450</th>\n",
       "      <td>6601</td>\n",
       "      <td>3.0</td>\n",
       "      <td>9.871068e-06</td>\n",
       "      <td>0.00002</td>\n",
       "    </tr>\n",
       "    <tr>\n",
       "      <th>423602</th>\n",
       "      <td>22792</td>\n",
       "      <td>8.0</td>\n",
       "      <td>1.630962e-15</td>\n",
       "      <td>0.00002</td>\n",
       "    </tr>\n",
       "  </tbody>\n",
       "</table>\n",
       "<p>500000 rows × 4 columns</p>\n",
       "</div>"
      ],
      "text/plain": [
       "        sample_id  epoch         score  percentile\n",
       "499675       9235    9.0  1.414212e+00     1.00000\n",
       "288560      27949    5.0  1.414192e+00     1.00000\n",
       "43930       31694    0.0  1.286880e+00     1.00000\n",
       "326129       9235    6.0  1.414071e+00     1.00000\n",
       "139748      47063    2.0  1.407979e+00     1.00000\n",
       "...           ...    ...           ...         ...\n",
       "450579      22792    9.0  4.496017e-15     0.00002\n",
       "296397      29671    5.0  1.488372e-08     0.00002\n",
       "398170      27187    7.0  3.713127e-12     0.00002\n",
       "154450       6601    3.0  9.871068e-06     0.00002\n",
       "423602      22792    8.0  1.630962e-15     0.00002\n",
       "\n",
       "[500000 rows x 4 columns]"
      ]
     },
     "execution_count": 6,
     "metadata": {},
     "output_type": "execute_result"
    }
   ],
   "source": [
    "from matplotlib import pyplot as plt\n",
    "pruned_scores = pd.read_csv(\n",
    "    log_dir + \"lightning_logs_train-el2n.csv\",\n",
    "    index_col=1,\n",
    "    usecols=[1, 2, 3],\n",
    ").reset_index()\n",
    "\n",
    "\n",
    "# f = plt.figure(figsize=(20, 20))\n",
    "\n",
    "# for e in range(0, 9):  \n",
    "#     pruned_scores_e = pruned_scores[pruned_scores[\"epoch\"] == e]\n",
    "#     sample = pruned_scores_e.sample(100)\n",
    "#     # scatter plot of x=sample_id, y=score using f.add_subplot\n",
    "#     # plt.scatter(...)\n",
    "#     ax = f.add_subplot(3, 3, e + 1)\n",
    "    \n",
    "#     ax.hist(x=sample[\"sample_id\"], weights=sample[\"score\"], range=(0, 50000), bins=100, density=True)\n",
    "\n",
    "# plt.tight_layout()\n",
    "# plt.show()\n",
    "\n",
    "# compute percentiles\n",
    "pruned_scores[\"percentile\"] = pruned_scores.groupby(\"epoch\")[\"score\"].rank(pct=True)\n",
    "pruned_scores.sort_values(\"percentile\", ascending=False, inplace=True)\n",
    "pruned_scores"
   ]
  },
  {
   "cell_type": "code",
   "execution_count": 7,
   "metadata": {},
   "outputs": [
    {
     "name": "stdout",
     "output_type": "stream",
     "text": [
      "TensorFlow installation not found - running with reduced feature set.\n",
      "\n",
      "NOTE: Using experimental fast data loading logic. To disable, pass\n",
      "    \"--load_fast=false\" and report issues on GitHub. More details:\n",
      "    https://github.com/tensorflow/tensorboard/issues/4784\n",
      "\n",
      "Address already in use\n",
      "Port 6006 is in use by another program. Either identify and stop that program, or start the server with a different port.\n"
     ]
    }
   ],
   "source": [
    "!tensorboard --logdir logs"
   ]
  }
 ],
 "metadata": {
  "kernelspec": {
   "display_name": "generalization",
   "language": "python",
   "name": "python3"
  },
  "language_info": {
   "codemirror_mode": {
    "name": "ipython",
    "version": 3
   },
   "file_extension": ".py",
   "mimetype": "text/x-python",
   "name": "python",
   "nbconvert_exporter": "python",
   "pygments_lexer": "ipython3",
   "version": "3.10.11"
  },
  "orig_nbformat": 4
 },
 "nbformat": 4,
 "nbformat_minor": 2
}
