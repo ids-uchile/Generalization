{
 "cells": [
  {
   "cell_type": "code",
   "execution_count": 1,
   "metadata": {},
   "outputs": [],
   "source": [
    "%load_ext autoreload\n",
    "%autoreload 2"
   ]
  },
  {
   "cell_type": "code",
   "execution_count": 2,
   "metadata": {},
   "outputs": [
    {
     "name": "stdout",
     "output_type": "stream",
     "text": [
      "Available corruptions:\n",
      " ['gaussian_pixels', 'random_labels', 'random_pixels', 'partial_labels', 'shuffled_pixels']\n"
     ]
    }
   ],
   "source": [
    "from generalization.randomization import available_corruptions\n",
    "\n",
    "import matplotlib.pyplot as plt\n",
    "import numpy as np\n",
    "import os\n",
    "\n",
    "def get_num_cpus():\n",
    "    return len(os.sched_getaffinity(0))\n",
    "\n",
    "\n",
    "def check(learn, dl, plt_title=None):\n",
    "    y_pred, ys, losses = learn.get_preds(1, dl=dl, with_loss=True, reorder=True)\n",
    "\n",
    "    print(y_pred[0].min(), y_pred[0].max(), y_pred[0].sum())\n",
    "    print(y_pred[0].argmax(), ys[0], losses[0])\n",
    "    plot_losses(losses, width=1, plt_title=plt_title)\n",
    "\n",
    "\n",
    "def plot_losses(losses, width=1, plt_title=None):\n",
    "    plt.bar(np.arange(len(losses)), losses, width=width)\n",
    "    plt.title(plt_title)\n",
    "    plt.show()\n",
    "\n",
    "\n",
    "print(\"Available corruptions:\\n\", available_corruptions())"
   ]
  },
  {
   "attachments": {},
   "cell_type": "markdown",
   "metadata": {},
   "source": [
    "## Configuration for all experiments"
   ]
  },
  {
   "cell_type": "code",
   "execution_count": 3,
   "metadata": {},
   "outputs": [],
   "source": [
    "from generalization.randomization import build_cifar10\n",
    "import torch\n",
    "\n",
    "\n",
    "def build_experiments(corrupt_prob, corrupt_name=None, batch_size=128):\n",
    "    corruptions = available_corruptions()\n",
    "\n",
    "    experiments = dict()\n",
    "\n",
    "    if corrupt_name is not None:\n",
    "        corruptions = [corrupt_name]\n",
    "\n",
    "    for corrupt_name in corruptions:\n",
    "        if corrupt_name == \"gaussian_pixels\":\n",
    "            continue\n",
    "        train_set, test_set = build_cifar10(\n",
    "            corruption_name=corrupt_name,\n",
    "            corruption_prob=corrupt_prob,\n",
    "            show_images=False,\n",
    "            verbose=False,\n",
    "        )\n",
    "\n",
    "        train_loader = torch.utils.data.DataLoader(\n",
    "            train_set,\n",
    "            batch_size=batch_size,\n",
    "            shuffle=True,\n",
    "            num_workers=get_num_cpus(),\n",
    "            pin_memory=True,\n",
    "        )\n",
    "\n",
    "        val_set, test_set = torch.utils.data.random_split(\n",
    "            test_set, [len(test_set) // 2, len(test_set) - len(test_set) // 2]\n",
    "        )\n",
    "\n",
    "        val_loader = torch.utils.data.DataLoader(\n",
    "            val_set,\n",
    "            batch_size=batch_size * 2,\n",
    "            shuffle=False,\n",
    "            num_workers=get_num_cpus(),\n",
    "            pin_memory=True,\n",
    "        )\n",
    "\n",
    "        test_loader = torch.utils.data.DataLoader(\n",
    "            test_set,\n",
    "            batch_size=batch_size * 2,\n",
    "            shuffle=False,\n",
    "            num_workers=get_num_cpus(),\n",
    "            pin_memory=True,\n",
    "        )\n",
    "\n",
    "        experiments[corrupt_name] = {\n",
    "            \"train_set\": train_set,\n",
    "            \"val_set\": val_set,\n",
    "            \"test_set\": test_set,\n",
    "            \"train_loader\": train_loader,\n",
    "            \"val_loader\": val_loader,\n",
    "            \"test_loader\": test_loader,\n",
    "        }\n",
    "    return experiments"
   ]
  },
  {
   "attachments": {},
   "cell_type": "markdown",
   "metadata": {},
   "source": [
    "## All Corruptions"
   ]
  },
  {
   "cell_type": "code",
   "execution_count": 4,
   "metadata": {},
   "outputs": [],
   "source": [
    "import lightning as L\n",
    "import torchmetrics\n",
    "from lightning.pytorch.loggers import WandbLogger\n",
    "from lightning.pytorch.loggers import TensorBoardLogger\n",
    "\n",
    "from torch import nn\n",
    "from torch.nn import functional as F\n",
    "\n",
    "\n",
    "class LitModel(L.LightningModule):\n",
    "    def __init__(self, net: nn.Module, lr: float = 1e-3, n_classes=10):\n",
    "        super().__init__()\n",
    "        self.net = net\n",
    "        self.lr = lr\n",
    "        self.n_classes = n_classes\n",
    "        self.train_acc = torchmetrics.Accuracy(task=\"multiclass\", num_classes=n_classes)\n",
    "        self.valid_acc = torchmetrics.Accuracy(task=\"multiclass\", num_classes=n_classes)\n",
    "        self.valid_top5_acc = torchmetrics.Accuracy(\n",
    "            task=\"multiclass\", num_classes=n_classes, top_k=5\n",
    "        )\n",
    "\n",
    "        self.test_acc = torchmetrics.Accuracy(task=\"multiclass\", num_classes=n_classes)\n",
    "        self.test_top5_acc = torchmetrics.Accuracy(\n",
    "            task=\"multiclass\", num_classes=n_classes, top_k=5\n",
    "        )\n",
    "\n",
    "        self.early_stop_counter = 0\n",
    "        self.patience = 5\n",
    "        self.best_valid_acc = 0\n",
    "\n",
    "    def forward(self, x):\n",
    "        out = self.net(x)\n",
    "        return out\n",
    "\n",
    "    def training_step(self, batch, batch_idx):\n",
    "        # training_step defines the train loop. It is independent of forward\n",
    "        x, y = batch\n",
    "        logits = self(x)\n",
    "        loss = F.cross_entropy(logits, y)\n",
    "\n",
    "        self.log(\"train/loss\", loss, on_epoch=True, on_step=False, prog_bar=True)\n",
    "        self.step_metrics(logits=logits, y=y, mode=\"train\")\n",
    "        return loss\n",
    "\n",
    "    def validation_step(self, batch, batch_idx):\n",
    "        x, y = batch\n",
    "        logits = self(x)\n",
    "        loss = F.cross_entropy(logits, y)\n",
    "\n",
    "        self.log(\"valid/loss\", loss, on_epoch=True, on_step=False, prog_bar=True)\n",
    "        self.step_metrics(logits=logits, y=y, mode=\"val\")\n",
    "        return loss\n",
    "\n",
    "    def test_step(self, batch, batch_idx):\n",
    "        x, y = batch\n",
    "        logits = self(x)\n",
    "        loss = F.cross_entropy(logits, y)\n",
    "\n",
    "        self.log(\"test/loss\", loss, on_epoch=True, on_step=False, prog_bar=True)\n",
    "        self.step_metrics(logits=logits, y=y, mode=\"val\")\n",
    "        return loss\n",
    "\n",
    "    def on_validation_end(self) -> None:\n",
    "        current_valid_acc = self.valid_acc.compute()\n",
    "        if current_valid_acc > self.best_valid_acc:\n",
    "            self.best_valid_acc = current_valid_acc\n",
    "            self.early_stop_counter = 0\n",
    "        else:\n",
    "            self.early_stop_counter += 1\n",
    "            if self.early_stop_counter > self.patience:\n",
    "                self.early_stop_counter = 0\n",
    "                # self.trainer.should_stop = True\n",
    "                log_fn = (\n",
    "                    self.logger.experiment.add_scalar\n",
    "                    if isinstance(self.logger, TensorBoardLogger)\n",
    "                    else self.logger.experiment.log\n",
    "                )\n",
    "\n",
    "                log_fn({\"early_stop\": self.current_epoch})\n",
    "\n",
    "    def step_metrics(self, logits, y, mode):\n",
    "        if mode == \"train\":\n",
    "            self.train_acc.update(logits, y)\n",
    "            self.log(\n",
    "                \"train/acc\", self.train_acc, on_step=False, on_epoch=True, prog_bar=True\n",
    "            )\n",
    "\n",
    "        elif mode == \"val\":\n",
    "            self.valid_acc.update(logits, y)\n",
    "            self.valid_top5_acc.update(logits, y)\n",
    "\n",
    "            self.log(\n",
    "                \"valid/acc\",\n",
    "                self.valid_acc.compute(),\n",
    "                on_step=False,\n",
    "                on_epoch=True,\n",
    "                prog_bar=True,\n",
    "            )\n",
    "            self.log(\n",
    "                \"valid/top5_acc\",\n",
    "                self.valid_top5_acc.compute(),\n",
    "                on_step=False,\n",
    "                on_epoch=True,\n",
    "                prog_bar=True,\n",
    "            )\n",
    "        elif mode == \"test\":\n",
    "            self.test_acc.update(logits, y)\n",
    "            self.test_top5_acc.update(logits, y)\n",
    "            self.log(\"test/acc\", self.test_acc.compute(), on_step=False, on_epoch=True)\n",
    "            self.log(\n",
    "                \"test/top5_acc\",\n",
    "                self.test_top5_acc.compute(),\n",
    "                on_step=False,\n",
    "                on_epoch=True,\n",
    "            )\n",
    "\n",
    "    def configure_optimizers(self):\n",
    "        optimizer = torch.optim.SGD(self.net.parameters(), lr=self.lr, momentum=0.9)\n",
    "        scheduler = torch.optim.lr_scheduler.StepLR(optimizer, 1, gamma=0.99)\n",
    "        return [optimizer], [scheduler]"
   ]
  },
  {
   "cell_type": "code",
   "execution_count": 5,
   "metadata": {},
   "outputs": [
    {
     "name": "stderr",
     "output_type": "stream",
     "text": [
      "Global seed set to 88\n"
     ]
    },
    {
     "data": {
      "text/plain": [
       "88"
      ]
     },
     "execution_count": 5,
     "metadata": {},
     "output_type": "execute_result"
    }
   ],
   "source": [
    "import time\n",
    "import wandb\n",
    "from generalization.models import get_cifar_models\n",
    "\n",
    "torch.set_float32_matmul_precision(\"medium\")\n",
    "\n",
    "SEED = 88\n",
    "BATCH_SIZE = 256\n",
    "LEARNING_RATE = 0.01\n",
    "PRINT_EVERY = 3\n",
    "EPOCHS = 60\n",
    "MODEL_NAME = \"inception\"\n",
    "CORRUPT_NAME = \"random_labels\"\n",
    "\n",
    "L.seed_everything(SEED)\n",
    "# experiments = build_experiments(corrupt_prob=0.1, corrupt_name=CORRUPT_NAME, batch_size=BATCH_SIZE)\n",
    "\n",
    "# models = get_cifar_models(lib=\"torch\")\n",
    "# print(models.keys())\n",
    "# net = models.get(MODEL_NAME)\n",
    "\n",
    "# logger = None\n",
    "# logger = WandbLogger(\n",
    "#     name=f\"{MODEL_NAME}\",\n",
    "#     project=\"generalization\",\n",
    "#     log_model=True,\n",
    "#     save_dir=\"logs\",\n",
    "#     version=\"2\",\n",
    "#     id=f\"{MODEL_NAME}-{CORRUPT_NAME}\",\n",
    "#     group=f\"{CORRUPT_NAME}\",\n",
    "#     tags=[MODEL_NAME, CORRUPT_NAME],\n",
    "# )\n",
    "\n",
    "# logger = TensorBoardLogger(\n",
    "#     save_dir=\"logs\",\n",
    "#     name=f\"{MODEL_NAME}\",\n",
    "#     version=f\"{CORRUPT_NAME}\",\n",
    "# )"
   ]
  },
  {
   "cell_type": "code",
   "execution_count": 6,
   "metadata": {},
   "outputs": [],
   "source": [
    "# trainer = L.Trainer(\n",
    "#     max_epochs=60, \n",
    "#     logger=logger , \n",
    "#     default_root_dir=\"logs\",\n",
    "# )\n",
    "# pl_model = LitModel(net, lr=LEARNING_RATE, n_classes=10)\n",
    "# start_time = time.time()\n",
    "# trainer.fit(\n",
    "#     pl_model,\n",
    "#     experiments[CORRUPT_NAME][\"train_loader\"],\n",
    "#     experiments[CORRUPT_NAME][\"val_loader\"],\n",
    "# )\n",
    "# print(f\"Training took {time.time() - start_time:.2f} seconds\")"
   ]
  },
  {
   "cell_type": "code",
   "execution_count": 7,
   "metadata": {},
   "outputs": [
    {
     "name": "stdout",
     "output_type": "stream",
     "text": [
      "Corruption: random_labels\n",
      "Files already downloaded and verified\n"
     ]
    },
    {
     "name": "stderr",
     "output_type": "stream",
     "text": [
      "/home/step/Code/projects/ids-generalization/notebooks/generalization/randomization/dataset.py:203: UserWarning: corruption_prob is ignored when corruption_name is 'random_*'\n",
      "  warnings.warn(\n"
     ]
    },
    {
     "name": "stdout",
     "output_type": "stream",
     "text": [
      "Files already downloaded and verified\n",
      "Corruption prob: 1\n"
     ]
    },
    {
     "name": "stderr",
     "output_type": "stream",
     "text": [
      "Failed to detect the name of this notebook, you can set it manually with the WANDB_NOTEBOOK_NAME environment variable to enable code saving.\n"
     ]
    },
    {
     "name": "stdout",
     "output_type": "stream",
     "text": [
      "Model: alexnet\n"
     ]
    },
    {
     "name": "stderr",
     "output_type": "stream",
     "text": [
      "\u001b[34m\u001b[1mwandb\u001b[0m: Currently logged in as: \u001b[33mstepp1\u001b[0m. Use \u001b[1m`wandb login --relogin`\u001b[0m to force relogin\n"
     ]
    },
    {
     "data": {
      "text/html": [
       "Tracking run with wandb version 0.15.4"
      ],
      "text/plain": [
       "<IPython.core.display.HTML object>"
      ]
     },
     "metadata": {},
     "output_type": "display_data"
    },
    {
     "data": {
      "text/html": [
       "Run data is saved locally in <code>logs/wandb/run-20230608_020205-3</code>"
      ],
      "text/plain": [
       "<IPython.core.display.HTML object>"
      ]
     },
     "metadata": {},
     "output_type": "display_data"
    },
    {
     "data": {
      "text/html": [
       "Syncing run <strong><a href='https://wandb.ai/stepp1/generalization/runs/3' target=\"_blank\">alexnet</a></strong> to <a href='https://wandb.ai/stepp1/generalization' target=\"_blank\">Weights & Biases</a> (<a href='https://wandb.me/run' target=\"_blank\">docs</a>)<br/>"
      ],
      "text/plain": [
       "<IPython.core.display.HTML object>"
      ]
     },
     "metadata": {},
     "output_type": "display_data"
    },
    {
     "data": {
      "text/html": [
       " View project at <a href='https://wandb.ai/stepp1/generalization' target=\"_blank\">https://wandb.ai/stepp1/generalization</a>"
      ],
      "text/plain": [
       "<IPython.core.display.HTML object>"
      ]
     },
     "metadata": {},
     "output_type": "display_data"
    },
    {
     "data": {
      "text/html": [
       " View run at <a href='https://wandb.ai/stepp1/generalization/runs/3' target=\"_blank\">https://wandb.ai/stepp1/generalization/runs/3</a>"
      ],
      "text/plain": [
       "<IPython.core.display.HTML object>"
      ]
     },
     "metadata": {},
     "output_type": "display_data"
    },
    {
     "name": "stderr",
     "output_type": "stream",
     "text": [
      "GPU available: True (cuda), used: True\n",
      "TPU available: False, using: 0 TPU cores\n",
      "IPU available: False, using: 0 IPUs\n",
      "HPU available: False, using: 0 HPUs\n",
      "LOCAL_RANK: 0 - CUDA_VISIBLE_DEVICES: [0]\n",
      "\n",
      "  | Name           | Type               | Params\n",
      "------------------------------------------------------\n",
      "0 | net            | SmallAlexNet       | 56.8 M\n",
      "1 | train_acc      | MulticlassAccuracy | 0     \n",
      "2 | valid_acc      | MulticlassAccuracy | 0     \n",
      "3 | valid_top5_acc | MulticlassAccuracy | 0     \n",
      "4 | test_acc       | MulticlassAccuracy | 0     \n",
      "5 | test_top5_acc  | MulticlassAccuracy | 0     \n",
      "------------------------------------------------------\n",
      "56.8 M    Trainable params\n",
      "0         Non-trainable params\n",
      "56.8 M    Total params\n",
      "227.307   Total estimated model params size (MB)\n"
     ]
    },
    {
     "name": "stdout",
     "output_type": "stream",
     "text": [
      "Epoch 59: 100%|██████████| 196/196 [00:06<00:00, 30.24it/s, v_num=3, valid/loss=35.60, valid/acc=0.0243, valid/top5_acc=0.292, train/loss=2.45e-5, train/acc=1.000] "
     ]
    },
    {
     "name": "stderr",
     "output_type": "stream",
     "text": [
      "`Trainer.fit` stopped: `max_epochs=60` reached.\n"
     ]
    },
    {
     "name": "stdout",
     "output_type": "stream",
     "text": [
      "Epoch 59: 100%|██████████| 196/196 [00:07<00:00, 27.75it/s, v_num=3, valid/loss=35.60, valid/acc=0.0243, valid/top5_acc=0.292, train/loss=2.45e-5, train/acc=1.000]\n"
     ]
    },
    {
     "name": "stderr",
     "output_type": "stream",
     "text": [
      "LOCAL_RANK: 0 - CUDA_VISIBLE_DEVICES: [0]\n"
     ]
    },
    {
     "name": "stdout",
     "output_type": "stream",
     "text": [
      "Training took 426.53 seconds\n",
      "Testing DataLoader 0: 100%|██████████| 10/10 [00:00<00:00, 129.23it/s]\n"
     ]
    },
    {
     "data": {
      "text/html": [
       "<pre style=\"white-space:pre;overflow-x:auto;line-height:normal;font-family:Menlo,'DejaVu Sans Mono',consolas,'Courier New',monospace\">┏━━━━━━━━━━━━━━━━━━━━━━━━━━━┳━━━━━━━━━━━━━━━━━━━━━━━━━━━┓\n",
       "┃<span style=\"font-weight: bold\">        Test metric        </span>┃<span style=\"font-weight: bold\">       DataLoader 0        </span>┃\n",
       "┡━━━━━━━━━━━━━━━━━━━━━━━━━━━╇━━━━━━━━━━━━━━━━━━━━━━━━━━━┩\n",
       "│<span style=\"color: #008080; text-decoration-color: #008080\">         test/loss         </span>│<span style=\"color: #800080; text-decoration-color: #800080\">     35.67580795288086     </span>│\n",
       "│<span style=\"color: #008080; text-decoration-color: #008080\">         valid/acc         </span>│<span style=\"color: #800080; text-decoration-color: #800080\">   0.024206291884183884    </span>│\n",
       "│<span style=\"color: #008080; text-decoration-color: #008080\">      valid/top5_acc       </span>│<span style=\"color: #800080; text-decoration-color: #800080\">    0.2917298376560211     </span>│\n",
       "└───────────────────────────┴───────────────────────────┘\n",
       "</pre>\n"
      ],
      "text/plain": [
       "┏━━━━━━━━━━━━━━━━━━━━━━━━━━━┳━━━━━━━━━━━━━━━━━━━━━━━━━━━┓\n",
       "┃\u001b[1m \u001b[0m\u001b[1m       Test metric       \u001b[0m\u001b[1m \u001b[0m┃\u001b[1m \u001b[0m\u001b[1m      DataLoader 0       \u001b[0m\u001b[1m \u001b[0m┃\n",
       "┡━━━━━━━━━━━━━━━━━━━━━━━━━━━╇━━━━━━━━━━━━━━━━━━━━━━━━━━━┩\n",
       "│\u001b[36m \u001b[0m\u001b[36m        test/loss        \u001b[0m\u001b[36m \u001b[0m│\u001b[35m \u001b[0m\u001b[35m    35.67580795288086    \u001b[0m\u001b[35m \u001b[0m│\n",
       "│\u001b[36m \u001b[0m\u001b[36m        valid/acc        \u001b[0m\u001b[36m \u001b[0m│\u001b[35m \u001b[0m\u001b[35m  0.024206291884183884   \u001b[0m\u001b[35m \u001b[0m│\n",
       "│\u001b[36m \u001b[0m\u001b[36m     valid/top5_acc      \u001b[0m\u001b[36m \u001b[0m│\u001b[35m \u001b[0m\u001b[35m   0.2917298376560211    \u001b[0m\u001b[35m \u001b[0m│\n",
       "└───────────────────────────┴───────────────────────────┘\n"
      ]
     },
     "metadata": {},
     "output_type": "display_data"
    },
    {
     "name": "stderr",
     "output_type": "stream",
     "text": [
      "/home/step/mambaforge/envs/generalization/lib/python3.10/site-packages/lightning/pytorch/loggers/wandb.py:395: UserWarning: There is a wandb run already in progress and newly created instances of `WandbLogger` will reuse this run. If this is not desired, call `wandb.finish()` before instantiating `WandbLogger`.\n",
      "  rank_zero_warn(\n",
      "GPU available: True (cuda), used: True\n",
      "TPU available: False, using: 0 TPU cores\n",
      "IPU available: False, using: 0 IPUs\n",
      "HPU available: False, using: 0 HPUs\n",
      "/home/step/mambaforge/envs/generalization/lib/python3.10/site-packages/lightning/pytorch/callbacks/model_checkpoint.py:612: UserWarning: Checkpoint directory logs/generalization/3/checkpoints exists and is not empty.\n",
      "  rank_zero_warn(f\"Checkpoint directory {dirpath} exists and is not empty.\")\n",
      "LOCAL_RANK: 0 - CUDA_VISIBLE_DEVICES: [0]\n",
      "\n",
      "  | Name           | Type               | Params\n",
      "------------------------------------------------------\n",
      "0 | net            | InceptionSmall     | 8.0 M \n",
      "1 | train_acc      | MulticlassAccuracy | 0     \n",
      "2 | valid_acc      | MulticlassAccuracy | 0     \n",
      "3 | valid_top5_acc | MulticlassAccuracy | 0     \n",
      "4 | test_acc       | MulticlassAccuracy | 0     \n",
      "5 | test_top5_acc  | MulticlassAccuracy | 0     \n",
      "------------------------------------------------------\n",
      "8.0 M     Trainable params\n",
      "0         Non-trainable params\n",
      "8.0 M     Total params\n",
      "32.191    Total estimated model params size (MB)\n"
     ]
    },
    {
     "name": "stdout",
     "output_type": "stream",
     "text": [
      "Model: inception\n",
      "Epoch 10:  18%|█▊        | 35/196 [00:02<00:09, 17.07it/s, v_num=3, valid/loss=18.90, valid/acc=0.0211, valid/top5_acc=0.311, train/loss=0.110, train/acc=0.962]"
     ]
    },
    {
     "name": "stdout",
     "output_type": "stream",
     "text": [
      "Epoch 10:  38%|███▊      | 74/196 [00:03<00:05, 23.27it/s, v_num=3, valid/loss=18.90, valid/acc=0.0211, valid/top5_acc=0.311, train/loss=0.110, train/acc=0.962]"
     ]
    }
   ],
   "source": [
    "for corrupt_name in available_corruptions():\n",
    "    if corrupt_name == \"gaussian_pixels\":\n",
    "        continue\n",
    "    print(f\"Corruption: {corrupt_name}\")\n",
    "    experiments = build_experiments(\n",
    "        corrupt_prob=0.1, corrupt_name=corrupt_name, batch_size=BATCH_SIZE\n",
    "    )\n",
    "    corrup_probs = (\n",
    "        [0, 0.1, 0.2, 0.3, 0.4, 0.5, 0.6, 0.7, 0.9]\n",
    "        if not \"random\" in corrupt_name\n",
    "        else [1]\n",
    "    )\n",
    "\n",
    "    for corrupt_prob in corrup_probs:\n",
    "        print(f\"Corruption prob: {corrupt_prob}\")\n",
    "        for model_name, net in get_cifar_models(lib=\"torch\").items():\n",
    "            print(f\"Model: {model_name}\")\n",
    "\n",
    "            MODEL_NAME = model_name\n",
    "            CORRUPT_NAME = corrupt_name\n",
    "\n",
    "            logger = WandbLogger(\n",
    "                name=f\"{MODEL_NAME}-{corrupt_prob}\",\n",
    "                project=\"generalization\",\n",
    "                log_model=True,\n",
    "                save_dir=\"logs\",\n",
    "                version=\"3\",\n",
    "                id=f\"{MODEL_NAME}-{CORRUPT_NAME}-{corrupt_prob}\",\n",
    "                group=f\"{CORRUPT_NAME}\",\n",
    "                tags=[MODEL_NAME, CORRUPT_NAME],\n",
    "            )\n",
    "\n",
    "            trainer = L.Trainer(\n",
    "                max_epochs=60,\n",
    "                logger=logger,\n",
    "                default_root_dir=\"logs\",\n",
    "            )\n",
    "            pl_model = LitModel(net, lr=LEARNING_RATE, n_classes=10)\n",
    "            start_time = time.time()\n",
    "            trainer.fit(\n",
    "                pl_model,\n",
    "                experiments[CORRUPT_NAME][\"train_loader\"],\n",
    "                experiments[CORRUPT_NAME][\"val_loader\"],\n",
    "            )\n",
    "            print(f\"Training took {time.time() - start_time:.2f} seconds\")\n",
    "\n",
    "            trainer.test(pl_model, experiments[CORRUPT_NAME][\"test_loader\"])\n",
    "\n",
    "            # assure that logger process has exited\n",
    "            trainer.logger.experiment.finish()"
   ]
  },
  {
   "cell_type": "code",
   "execution_count": null,
   "metadata": {},
   "outputs": [],
   "source": [
    "trainer.logger.experiment.log?"
   ]
  },
  {
   "cell_type": "code",
   "execution_count": null,
   "metadata": {},
   "outputs": [],
   "source": [
    "from torchvision import transforms\n",
    "from generalization.randomization.utils import CIFAR10_NORMALIZE_MEAN, CIFAR10_NORMALIZE_STD\n",
    "\n",
    "\n",
    "idx = np.random.randint(len(experiments[CORRUPT_NAME][\"train_set\"]))\n",
    "\n",
    "unnormalize = transforms.functional.normalize(\n",
    "    experiments[CORRUPT_NAME][\"train_set\"][idx][0],\n",
    "    mean=[-m / s for m, s in zip(CIFAR10_NORMALIZE_MEAN, CIFAR10_NORMALIZE_STD)],\n",
    "    std=[1 / s for s in CIFAR10_NORMALIZE_STD],\n",
    ")\n",
    "\n",
    "label = experiments[CORRUPT_NAME][\"train_set\"][idx][1]\n",
    "class_name = experiments[CORRUPT_NAME][\"train_set\"].classes[label]\n",
    "\n",
    "\n",
    "f, ax = plt.subplots(1, 1, figsize=(2, 2))\n",
    "ax.imshow(unnormalize.permute(1, 2, 0))\n",
    "ax.set_title(f\"Corrupted label: {class_name}\")\n",
    "ax.axis(\"off\")\n",
    "plt.show()"
   ]
  },
  {
   "cell_type": "code",
   "execution_count": null,
   "metadata": {},
   "outputs": [],
   "source": [
    "# !tensorboard --logdir logs"
   ]
  },
  {
   "cell_type": "code",
   "execution_count": null,
   "metadata": {},
   "outputs": [],
   "source": [
    "# import wandb\n",
    "# \n",
    "# for model in models.keys():\n",
    "#     print(\"Model:\", model)\n",
    "\n",
    "#     for corruption, exp in experiments.items():\n",
    "#         wandb.finish()\n",
    "#         print(\"Corruption:\", corruption)\n",
    "\n",
    "#         net = models.get(model)\n",
    "#         logger = WandbLogger(\n",
    "#             name=f\"{model}\",\n",
    "#             project=\"generalization\",\n",
    "#             log_model=True,\n",
    "#             save_dir=\"logs\",\n",
    "#             group=f\"{corruption}\"\n",
    "#         )\n",
    "#         trainer = L.Trainer(max_epochs=10, logger=logger, default_root_dir=\"logs\")\n",
    "#         pl_model = LitModel(net)\n",
    "#         start_time = time.time()\n",
    "#         trainer.fit(\n",
    "#             pl_model,\n",
    "#             experiments[corruption][\"train_loader\"],\n",
    "#             experiments[corruption][\"test_loader\"],\n",
    "#         )\n",
    "#         print(\n",
    "#             f\"== Total time: {time.time() - start_time:.3f} s, {(time.time() - start_time)/ 60:.3f} min\"\n",
    "#         )\n",
    "#         break"
   ]
  }
 ],
 "metadata": {
  "kernelspec": {
   "display_name": "generalization",
   "language": "python",
   "name": "python3"
  },
  "language_info": {
   "codemirror_mode": {
    "name": "ipython",
    "version": 3
   },
   "file_extension": ".py",
   "mimetype": "text/x-python",
   "name": "python",
   "nbconvert_exporter": "python",
   "pygments_lexer": "ipython3",
   "version": "3.10.11"
  },
  "orig_nbformat": 4
 },
 "nbformat": 4,
 "nbformat_minor": 2
}
